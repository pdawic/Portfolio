{
 "cells": [
  {
   "cell_type": "code",
   "execution_count": null,
   "metadata": {},
   "outputs": [],
   "source": [
    "#import bibliotek\n",
    "import pandas as pd\n",
    "import os"
   ]
  },
  {
   "cell_type": "code",
   "execution_count": null,
   "metadata": {},
   "outputs": [],
   "source": [
    "#wczytywanie DF\n",
    "\n",
    "path=os.path.join(os.path.abspath(''),'kickstarter_public_kickstarter_filtered.tsv')\n",
    "DF = pd.read_csv(path,sep='\\t')\n"
   ]
  },
  {
   "cell_type": "markdown",
   "metadata": {},
   "source": [
    "## Funkcja wyznaczająca koszyki dla goal"
   ]
  },
  {
   "cell_type": "code",
   "execution_count": null,
   "metadata": {},
   "outputs": [],
   "source": [
    "sorted_by_goal=DF.sort_values(by=['goal_in_usd'])\n",
    "sorted_by_goal=sorted_by_goal.reset_index(drop=True)\n",
    "\n",
    "#proponuje liczbe koszyków między 10-20\n",
    "bins=15\n",
    "step=int(sorted_by_goal.shape[0]/bins)\n",
    "\n",
    "print(\"W jednym koszyku znajduje się\", step, \"wniosków.\\n\")\n",
    "\n",
    "bin_ranges=[]\n",
    "for i in range(bins):\n",
    "    \n",
    "    lower_limit=sorted_by_goal['goal_in_usd'].loc[step*i]\n",
    "    if i==(bins-1):\n",
    "        upper_limit=sorted_by_goal['goal_in_usd'].max()\n",
    "    else:\n",
    "        upper_limit=sorted_by_goal['goal_in_usd'].loc[step*(i+1)] \n",
    "    \n",
    "    print(\"Koszyk nr\",i,\"przedzial miedzy\",lower_limit,',a', upper_limit)\n",
    "    \n",
    "    bin_ranges.append((lower_limit,upper_limit))\n",
    "\n",
    "print('\\n',bin_ranges)"
   ]
  },
  {
   "cell_type": "markdown",
   "metadata": {},
   "source": [
    "## Koszyki dla duration"
   ]
  },
  {
   "cell_type": "code",
   "execution_count": null,
   "metadata": {},
   "outputs": [],
   "source": [
    "#Wcześniejszej funkcji nie da się za bardzo wykorzystać do wyliczenia koszyków dla\n",
    "#duration, ponieważ liczba wniosków wynosząca dokładnie 30 dni jest przytłaczająco większa\n",
    "#niż pozostałe, więc nie ma jak podzielić na równe koszyki, proponuje podział\n",
    "# do 30, 30 i ponad 30\n",
    "\n",
    "print(\"Mniej niż 30 dni:\",DF['duration'][DF['duration']<30].count())\n",
    "print(\"Równo 30 dni:\",DF['duration'][DF['duration']==30].count())\n",
    "print(\"Więcej niż 30 dni:\",DF['duration'][DF['duration']>30].count())\n"
   ]
  },
  {
   "cell_type": "code",
   "execution_count": null,
   "metadata": {},
   "outputs": [],
   "source": []
  }
 ],
 "metadata": {
  "kernelspec": {
   "display_name": "Python 3",
   "language": "python",
   "name": "python3"
  },
  "language_info": {
   "codemirror_mode": {
    "name": "ipython",
    "version": 3
   },
   "file_extension": ".py",
   "mimetype": "text/x-python",
   "name": "python",
   "nbconvert_exporter": "python",
   "pygments_lexer": "ipython3",
   "version": "3.7.4"
  }
 },
 "nbformat": 4,
 "nbformat_minor": 2
}
