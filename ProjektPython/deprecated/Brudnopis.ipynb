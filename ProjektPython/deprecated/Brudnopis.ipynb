{
 "cells": [
  {
   "cell_type": "code",
   "execution_count": 6,
   "metadata": {
    "scrolled": true
   },
   "outputs": [
    {
     "data": {
      "application/vnd.jupyter.widget-view+json": {
       "model_id": "c8e5432b2e744eeda9a9b87d78e25b22",
       "version_major": 2,
       "version_minor": 0
      },
      "text/plain": [
       "HBox(children=(VBox(children=(IntSlider(value=0, description='r'), IntSlider(value=0, description='t'), IntSli…"
      ]
     },
     "metadata": {},
     "output_type": "display_data"
    }
   ],
   "source": [
    "# jakby ktoś chciał widgety automatycznie się obliczające\n",
    "\n",
    "import ipywidgets as widgets\n",
    "a = widgets.IntSlider(description='r')\n",
    "b = widgets.IntSlider(description='t')\n",
    "c = widgets.IntSlider(description='y')\n",
    "def f(r, b, c):\n",
    "    print('{}*{}*{}={}'.format(r, b, c, r*b*c))\n",
    "\n",
    "out = widgets.interactive_output(f, {'r': a, 'b': b, 'c': c})\n",
    "\n",
    "widgets.HBox([widgets.VBox([a, b, c]), out])"
   ]
  },
  {
   "cell_type": "code",
   "execution_count": null,
   "metadata": {},
   "outputs": [],
   "source": [
    "# a tego używaliśmy, żeby sprawdzić wywoływanie się funkcji!\n",
    "\n",
    "result = limiter(DF, 'Photography','Animals',10,90,'Other','not considered')\n",
    "final_output = sr.success_ratio(result)\n",
    "print('ilosc \"podobnych\" :',result['id'].count())\n",
    "print(result[result['state'] == 'successful']['id'].count() / result['id'].count())"
   ]
  }
 ],
 "metadata": {
  "kernelspec": {
   "display_name": "Python 3",
   "language": "python",
   "name": "python3"
  },
  "language_info": {
   "codemirror_mode": {
    "name": "ipython",
    "version": 3
   },
   "file_extension": ".py",
   "mimetype": "text/x-python",
   "name": "python",
   "nbconvert_exporter": "python",
   "pygments_lexer": "ipython3",
   "version": "3.7.4"
  }
 },
 "nbformat": 4,
 "nbformat_minor": 2
}
