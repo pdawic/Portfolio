{
 "cells": [
  {
   "cell_type": "code",
   "execution_count": 10,
   "metadata": {},
   "outputs": [
    {
     "data": {
      "text/plain": [
       "id                              -0.000872\n",
       "duration                        -0.118258\n",
       "goal_in_defined_currency        -0.024967\n",
       "pledged_in_defined_currency      0.112191\n",
       "goal_in_usd                     -0.023708\n",
       "pledged_in_usd                   0.111103\n",
       "percentage_of_money_collected    0.014784\n",
       "backers                          0.129219\n",
       "state                            1.000000\n",
       "dtype: float64"
      ]
     },
     "execution_count": 10,
     "metadata": {},
     "output_type": "execute_result"
    }
   ],
   "source": [
    "# import bibliotek\n",
    "import numpy as np\n",
    "import pandas as pd\n",
    "\n",
    "# wczytywanie DF z linku https://we.tl/t-yDSAPEXRdB\n",
    "DF = pd.read_csv('kickstarter_public_kickstarter_filtered.tsv',sep='\\t')\n",
    "\n",
    "# nadanie wartości liczbowych statusowi kampanii, żeby móc policzyć korelację: sukces = 1, porażka = 0\n",
    "DF.loc[DF['state'] == 'successful', 'state'] = 1\n",
    "DF.loc[DF['state'] == 'canceled', 'state'] = 0\n",
    "DF.loc[DF['state'] == 'failed', 'state'] = 0\n",
    "\n",
    "# sprawdzenie korelacji\n",
    "DF.corrwith(DF['state'])"
   ]
  },
  {
   "cell_type": "code",
   "execution_count": null,
   "metadata": {},
   "outputs": [],
   "source": []
  }
 ],
 "metadata": {
  "kernelspec": {
   "display_name": "Python 3",
   "language": "python",
   "name": "python3"
  },
  "language_info": {
   "codemirror_mode": {
    "name": "ipython",
    "version": 3
   },
   "file_extension": ".py",
   "mimetype": "text/x-python",
   "name": "python",
   "nbconvert_exporter": "python",
   "pygments_lexer": "ipython3",
   "version": "3.7.4"
  }
 },
 "nbformat": 4,
 "nbformat_minor": 2
}
