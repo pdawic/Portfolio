{
 "cells": [
  {
   "cell_type": "markdown",
   "metadata": {},
   "source": [
    "# 1 Importownie bibliotek"
   ]
  },
  {
   "cell_type": "code",
   "execution_count": 1,
   "metadata": {},
   "outputs": [],
   "source": [
    "import pandas as pd\n",
    "import numpy as np\n",
    "import matplotlib.pyplot as plt\n",
    "import math as math"
   ]
  },
  {
   "cell_type": "markdown",
   "metadata": {},
   "source": [
    "# 2 Importowanie pliku w PANDAS"
   ]
  },
  {
   "cell_type": "markdown",
   "metadata": {},
   "source": [
    "## Jest kilka sposobów, najprostszy jest gdy mamy *.CSV:\n",
    "\n",
    "df1=pd.read_csv('ks-projects-201801.csv')\n",
    "\n",
    "df2=pd.read_csv('./course-files/ks-projects-201801.csv')\n",
    "\n",
    "**Uwagi:**\n",
    "    1. plik ks-projects-201801.csv w **DF2** ma podaną ściężkę jak widać spoza lokalizacji ROOTa ./jupitera, w zwkiązku z tym jest \"./\"\n",
    "    2. można w jupiterze używać TABa po \"./\"\n",
    "    3. w przypadku **DF1** gdy mamy notebook w tej samej lokalizacji co plik to nie musimy używać \"./\"\n",
    "    \n",
    " **Pandas obsuguje inne pliki, takie jak np:**\n",
    "    1. excel\n",
    "    2. html\n",
    "    3. jason\n",
    "    4. schowek\n",
    " Wszystko jest pod tabulatorem po .read_\n",
    " \n",
    " "
   ]
  },
  {
   "cell_type": "markdown",
   "metadata": {},
   "source": [
    "## Import poszczególnych kolumn na przykładzie *.CSV\n",
    "\n",
    "df1=pd.read_csv('ks-projects-201801.csv',usecols=['usd pledged','usd_pledged_real'])"
   ]
  },
  {
   "cell_type": "code",
   "execution_count": 2,
   "metadata": {},
   "outputs": [
    {
     "name": "stdout",
     "output_type": "stream",
     "text": [
      "   usd pledged  usd_pledged_real\n",
      "0          0.0               0.0\n",
      "1        100.0            2421.0\n",
      "2        220.0             220.0\n",
      "3          1.0               1.0\n",
      "4       1283.0            1283.0\n",
      "\n",
      "\n",
      "        usd pledged  usd_pledged_real\n",
      "378656         25.0              25.0\n",
      "378657        155.0             155.0\n",
      "378658         20.0              20.0\n",
      "378659        200.0             200.0\n",
      "378660        524.0             524.0\n"
     ]
    }
   ],
   "source": [
    "df1=pd.read_csv('ks-projects-201801.csv',usecols=['usd pledged','usd_pledged_real'])\n",
    "#.head() wyświetla 5 krotek - jeśli będzie parametr (10) to będzie 10 krotek\n",
    "print(df1.head())\n",
    "print('\\n')\n",
    "#.tail() wyświetla 5 krotek - jeśli będzie parametr (10) to będzie 10 krotek\n",
    "print(df1.tail())"
   ]
  },
  {
   "cell_type": "code",
   "execution_count": 3,
   "metadata": {},
   "outputs": [
    {
     "data": {
      "text/html": [
       "<div>\n",
       "<style scoped>\n",
       "    .dataframe tbody tr th:only-of-type {\n",
       "        vertical-align: middle;\n",
       "    }\n",
       "\n",
       "    .dataframe tbody tr th {\n",
       "        vertical-align: top;\n",
       "    }\n",
       "\n",
       "    .dataframe thead th {\n",
       "        text-align: right;\n",
       "    }\n",
       "</style>\n",
       "<table border=\"1\" class=\"dataframe\">\n",
       "  <thead>\n",
       "    <tr style=\"text-align: right;\">\n",
       "      <th></th>\n",
       "      <th>usd pledged</th>\n",
       "      <th>usd_pledged_real</th>\n",
       "    </tr>\n",
       "  </thead>\n",
       "  <tbody>\n",
       "    <tr>\n",
       "      <th>0</th>\n",
       "      <td>0.0</td>\n",
       "      <td>0.0</td>\n",
       "    </tr>\n",
       "    <tr>\n",
       "      <th>1</th>\n",
       "      <td>100.0</td>\n",
       "      <td>2421.0</td>\n",
       "    </tr>\n",
       "    <tr>\n",
       "      <th>2</th>\n",
       "      <td>220.0</td>\n",
       "      <td>220.0</td>\n",
       "    </tr>\n",
       "    <tr>\n",
       "      <th>3</th>\n",
       "      <td>1.0</td>\n",
       "      <td>1.0</td>\n",
       "    </tr>\n",
       "    <tr>\n",
       "      <th>4</th>\n",
       "      <td>1283.0</td>\n",
       "      <td>1283.0</td>\n",
       "    </tr>\n",
       "  </tbody>\n",
       "</table>\n",
       "</div>"
      ],
      "text/plain": [
       "   usd pledged  usd_pledged_real\n",
       "0          0.0               0.0\n",
       "1        100.0            2421.0\n",
       "2        220.0             220.0\n",
       "3          1.0               1.0\n",
       "4       1283.0            1283.0"
      ]
     },
     "execution_count": 3,
     "metadata": {},
     "output_type": "execute_result"
    }
   ],
   "source": [
    "df1=pd.read_csv('ks-projects-201801.csv',usecols=['usd pledged','usd_pledged_real'])\n",
    "df1.head()"
   ]
  },
  {
   "cell_type": "markdown",
   "metadata": {},
   "source": [
    "## 2.1 Inne sposoby importu plików:\n",
    "import csv\n",
    "\n",
    "**konstrukcja *with* pozwala na otworzenie pliku i korzystanie z niego wewnątrz niej, po jej opuszczeniu automatycznie zamknie strumień odczytu**\n",
    "\n",
    "with open('plik.csv', 'r') as csvfile:\n",
    "\n",
    "**deklarujemy nasz *czytacz* parametr *delimiter* jest opcjonalny i wskazuje jaki został w pliku użyty separator**\n",
    "\n",
    "csvreader = csv.reader(csvfile, delimiter=',')\n",
    "\n",
    "**pojawia się nowy paramet encoding ustawiony na utf-8**\n",
    "\n",
    "with open('plik.csv', 'r', encoding='utf-8') as csvfile:\n",
    "    csvreader = csv.reader(csvfile, delimiter=',')"
   ]
  },
  {
   "cell_type": "markdown",
   "metadata": {},
   "source": [
    "## 2.2 Indeksowanie Serii/DataFrame"
   ]
  },
  {
   "cell_type": "markdown",
   "metadata": {},
   "source": [
    "1. Gdy zaimportujemy domyślnie nasz plik, indeksem staje się domyślnie utworzona kolumna. Widać to poniżej:"
   ]
  },
  {
   "cell_type": "code",
   "execution_count": 5,
   "metadata": {},
   "outputs": [
    {
     "data": {
      "text/html": [
       "<div>\n",
       "<style scoped>\n",
       "    .dataframe tbody tr th:only-of-type {\n",
       "        vertical-align: middle;\n",
       "    }\n",
       "\n",
       "    .dataframe tbody tr th {\n",
       "        vertical-align: top;\n",
       "    }\n",
       "\n",
       "    .dataframe thead th {\n",
       "        text-align: right;\n",
       "    }\n",
       "</style>\n",
       "<table border=\"1\" class=\"dataframe\">\n",
       "  <thead>\n",
       "    <tr style=\"text-align: right;\">\n",
       "      <th></th>\n",
       "      <th>ID</th>\n",
       "      <th>name</th>\n",
       "      <th>category</th>\n",
       "      <th>main_category</th>\n",
       "      <th>currency</th>\n",
       "      <th>deadline</th>\n",
       "      <th>goal</th>\n",
       "      <th>launched</th>\n",
       "      <th>pledged</th>\n",
       "      <th>state</th>\n",
       "      <th>backers</th>\n",
       "      <th>country</th>\n",
       "      <th>usd pledged</th>\n",
       "      <th>usd_pledged_real</th>\n",
       "      <th>usd_goal_real</th>\n",
       "    </tr>\n",
       "  </thead>\n",
       "  <tbody>\n",
       "    <tr>\n",
       "      <th>0</th>\n",
       "      <td>1000002330</td>\n",
       "      <td>The Songs of Adelaide &amp; Abullah</td>\n",
       "      <td>Poetry</td>\n",
       "      <td>Publishing</td>\n",
       "      <td>GBP</td>\n",
       "      <td>2015-10-09</td>\n",
       "      <td>1000.0</td>\n",
       "      <td>2015-08-11 12:12:28</td>\n",
       "      <td>0.0</td>\n",
       "      <td>failed</td>\n",
       "      <td>0</td>\n",
       "      <td>GB</td>\n",
       "      <td>0.0</td>\n",
       "      <td>0.0</td>\n",
       "      <td>1533.95</td>\n",
       "    </tr>\n",
       "    <tr>\n",
       "      <th>1</th>\n",
       "      <td>1000003930</td>\n",
       "      <td>Greeting From Earth: ZGAC Arts Capsule For ET</td>\n",
       "      <td>Narrative Film</td>\n",
       "      <td>Film &amp; Video</td>\n",
       "      <td>USD</td>\n",
       "      <td>2017-11-01</td>\n",
       "      <td>30000.0</td>\n",
       "      <td>2017-09-02 04:43:57</td>\n",
       "      <td>2421.0</td>\n",
       "      <td>failed</td>\n",
       "      <td>15</td>\n",
       "      <td>US</td>\n",
       "      <td>100.0</td>\n",
       "      <td>2421.0</td>\n",
       "      <td>30000.00</td>\n",
       "    </tr>\n",
       "    <tr>\n",
       "      <th>2</th>\n",
       "      <td>1000004038</td>\n",
       "      <td>Where is Hank?</td>\n",
       "      <td>Narrative Film</td>\n",
       "      <td>Film &amp; Video</td>\n",
       "      <td>USD</td>\n",
       "      <td>2013-02-26</td>\n",
       "      <td>45000.0</td>\n",
       "      <td>2013-01-12 00:20:50</td>\n",
       "      <td>220.0</td>\n",
       "      <td>failed</td>\n",
       "      <td>3</td>\n",
       "      <td>US</td>\n",
       "      <td>220.0</td>\n",
       "      <td>220.0</td>\n",
       "      <td>45000.00</td>\n",
       "    </tr>\n",
       "    <tr>\n",
       "      <th>3</th>\n",
       "      <td>1000007540</td>\n",
       "      <td>ToshiCapital Rekordz Needs Help to Complete Album</td>\n",
       "      <td>Music</td>\n",
       "      <td>Music</td>\n",
       "      <td>USD</td>\n",
       "      <td>2012-04-16</td>\n",
       "      <td>5000.0</td>\n",
       "      <td>2012-03-17 03:24:11</td>\n",
       "      <td>1.0</td>\n",
       "      <td>failed</td>\n",
       "      <td>1</td>\n",
       "      <td>US</td>\n",
       "      <td>1.0</td>\n",
       "      <td>1.0</td>\n",
       "      <td>5000.00</td>\n",
       "    </tr>\n",
       "    <tr>\n",
       "      <th>4</th>\n",
       "      <td>1000011046</td>\n",
       "      <td>Community Film Project: The Art of Neighborhoo...</td>\n",
       "      <td>Film &amp; Video</td>\n",
       "      <td>Film &amp; Video</td>\n",
       "      <td>USD</td>\n",
       "      <td>2015-08-29</td>\n",
       "      <td>19500.0</td>\n",
       "      <td>2015-07-04 08:35:03</td>\n",
       "      <td>1283.0</td>\n",
       "      <td>canceled</td>\n",
       "      <td>14</td>\n",
       "      <td>US</td>\n",
       "      <td>1283.0</td>\n",
       "      <td>1283.0</td>\n",
       "      <td>19500.00</td>\n",
       "    </tr>\n",
       "  </tbody>\n",
       "</table>\n",
       "</div>"
      ],
      "text/plain": [
       "           ID                                               name  \\\n",
       "0  1000002330                    The Songs of Adelaide & Abullah   \n",
       "1  1000003930      Greeting From Earth: ZGAC Arts Capsule For ET   \n",
       "2  1000004038                                     Where is Hank?   \n",
       "3  1000007540  ToshiCapital Rekordz Needs Help to Complete Album   \n",
       "4  1000011046  Community Film Project: The Art of Neighborhoo...   \n",
       "\n",
       "         category main_category currency    deadline     goal  \\\n",
       "0          Poetry    Publishing      GBP  2015-10-09   1000.0   \n",
       "1  Narrative Film  Film & Video      USD  2017-11-01  30000.0   \n",
       "2  Narrative Film  Film & Video      USD  2013-02-26  45000.0   \n",
       "3           Music         Music      USD  2012-04-16   5000.0   \n",
       "4    Film & Video  Film & Video      USD  2015-08-29  19500.0   \n",
       "\n",
       "              launched  pledged     state  backers country  usd pledged  \\\n",
       "0  2015-08-11 12:12:28      0.0    failed        0      GB          0.0   \n",
       "1  2017-09-02 04:43:57   2421.0    failed       15      US        100.0   \n",
       "2  2013-01-12 00:20:50    220.0    failed        3      US        220.0   \n",
       "3  2012-03-17 03:24:11      1.0    failed        1      US          1.0   \n",
       "4  2015-07-04 08:35:03   1283.0  canceled       14      US       1283.0   \n",
       "\n",
       "   usd_pledged_real  usd_goal_real  \n",
       "0               0.0        1533.95  \n",
       "1            2421.0       30000.00  \n",
       "2             220.0       45000.00  \n",
       "3               1.0        5000.00  \n",
       "4            1283.0       19500.00  "
      ]
     },
     "execution_count": 5,
     "metadata": {},
     "output_type": "execute_result"
    }
   ],
   "source": [
    "df1=pd.read_csv('ks-projects-201801.csv')\n",
    "df1.head()"
   ]
  },
  {
   "cell_type": "code",
   "execution_count": null,
   "metadata": {},
   "outputs": [],
   "source": [
    "2. Można to zmienić gdy przypiszemy indeks parametrem **index_col**, podczas importu pliku. Poniżej przykład z df2"
   ]
  },
  {
   "cell_type": "code",
   "execution_count": 6,
   "metadata": {},
   "outputs": [
    {
     "data": {
      "text/html": [
       "<div>\n",
       "<style scoped>\n",
       "    .dataframe tbody tr th:only-of-type {\n",
       "        vertical-align: middle;\n",
       "    }\n",
       "\n",
       "    .dataframe tbody tr th {\n",
       "        vertical-align: top;\n",
       "    }\n",
       "\n",
       "    .dataframe thead th {\n",
       "        text-align: right;\n",
       "    }\n",
       "</style>\n",
       "<table border=\"1\" class=\"dataframe\">\n",
       "  <thead>\n",
       "    <tr style=\"text-align: right;\">\n",
       "      <th></th>\n",
       "      <th>name</th>\n",
       "      <th>category</th>\n",
       "      <th>main_category</th>\n",
       "      <th>currency</th>\n",
       "      <th>deadline</th>\n",
       "      <th>goal</th>\n",
       "      <th>launched</th>\n",
       "      <th>pledged</th>\n",
       "      <th>state</th>\n",
       "      <th>backers</th>\n",
       "      <th>country</th>\n",
       "      <th>usd pledged</th>\n",
       "      <th>usd_pledged_real</th>\n",
       "      <th>usd_goal_real</th>\n",
       "    </tr>\n",
       "    <tr>\n",
       "      <th>ID</th>\n",
       "      <th></th>\n",
       "      <th></th>\n",
       "      <th></th>\n",
       "      <th></th>\n",
       "      <th></th>\n",
       "      <th></th>\n",
       "      <th></th>\n",
       "      <th></th>\n",
       "      <th></th>\n",
       "      <th></th>\n",
       "      <th></th>\n",
       "      <th></th>\n",
       "      <th></th>\n",
       "      <th></th>\n",
       "    </tr>\n",
       "  </thead>\n",
       "  <tbody>\n",
       "    <tr>\n",
       "      <th>1000002330</th>\n",
       "      <td>The Songs of Adelaide &amp; Abullah</td>\n",
       "      <td>Poetry</td>\n",
       "      <td>Publishing</td>\n",
       "      <td>GBP</td>\n",
       "      <td>2015-10-09</td>\n",
       "      <td>1000.0</td>\n",
       "      <td>2015-08-11 12:12:28</td>\n",
       "      <td>0.0</td>\n",
       "      <td>failed</td>\n",
       "      <td>0</td>\n",
       "      <td>GB</td>\n",
       "      <td>0.0</td>\n",
       "      <td>0.0</td>\n",
       "      <td>1533.95</td>\n",
       "    </tr>\n",
       "    <tr>\n",
       "      <th>1000003930</th>\n",
       "      <td>Greeting From Earth: ZGAC Arts Capsule For ET</td>\n",
       "      <td>Narrative Film</td>\n",
       "      <td>Film &amp; Video</td>\n",
       "      <td>USD</td>\n",
       "      <td>2017-11-01</td>\n",
       "      <td>30000.0</td>\n",
       "      <td>2017-09-02 04:43:57</td>\n",
       "      <td>2421.0</td>\n",
       "      <td>failed</td>\n",
       "      <td>15</td>\n",
       "      <td>US</td>\n",
       "      <td>100.0</td>\n",
       "      <td>2421.0</td>\n",
       "      <td>30000.00</td>\n",
       "    </tr>\n",
       "    <tr>\n",
       "      <th>1000004038</th>\n",
       "      <td>Where is Hank?</td>\n",
       "      <td>Narrative Film</td>\n",
       "      <td>Film &amp; Video</td>\n",
       "      <td>USD</td>\n",
       "      <td>2013-02-26</td>\n",
       "      <td>45000.0</td>\n",
       "      <td>2013-01-12 00:20:50</td>\n",
       "      <td>220.0</td>\n",
       "      <td>failed</td>\n",
       "      <td>3</td>\n",
       "      <td>US</td>\n",
       "      <td>220.0</td>\n",
       "      <td>220.0</td>\n",
       "      <td>45000.00</td>\n",
       "    </tr>\n",
       "    <tr>\n",
       "      <th>1000007540</th>\n",
       "      <td>ToshiCapital Rekordz Needs Help to Complete Album</td>\n",
       "      <td>Music</td>\n",
       "      <td>Music</td>\n",
       "      <td>USD</td>\n",
       "      <td>2012-04-16</td>\n",
       "      <td>5000.0</td>\n",
       "      <td>2012-03-17 03:24:11</td>\n",
       "      <td>1.0</td>\n",
       "      <td>failed</td>\n",
       "      <td>1</td>\n",
       "      <td>US</td>\n",
       "      <td>1.0</td>\n",
       "      <td>1.0</td>\n",
       "      <td>5000.00</td>\n",
       "    </tr>\n",
       "    <tr>\n",
       "      <th>1000011046</th>\n",
       "      <td>Community Film Project: The Art of Neighborhoo...</td>\n",
       "      <td>Film &amp; Video</td>\n",
       "      <td>Film &amp; Video</td>\n",
       "      <td>USD</td>\n",
       "      <td>2015-08-29</td>\n",
       "      <td>19500.0</td>\n",
       "      <td>2015-07-04 08:35:03</td>\n",
       "      <td>1283.0</td>\n",
       "      <td>canceled</td>\n",
       "      <td>14</td>\n",
       "      <td>US</td>\n",
       "      <td>1283.0</td>\n",
       "      <td>1283.0</td>\n",
       "      <td>19500.00</td>\n",
       "    </tr>\n",
       "  </tbody>\n",
       "</table>\n",
       "</div>"
      ],
      "text/plain": [
       "                                                         name        category  \\\n",
       "ID                                                                              \n",
       "1000002330                    The Songs of Adelaide & Abullah          Poetry   \n",
       "1000003930      Greeting From Earth: ZGAC Arts Capsule For ET  Narrative Film   \n",
       "1000004038                                     Where is Hank?  Narrative Film   \n",
       "1000007540  ToshiCapital Rekordz Needs Help to Complete Album           Music   \n",
       "1000011046  Community Film Project: The Art of Neighborhoo...    Film & Video   \n",
       "\n",
       "           main_category currency    deadline     goal             launched  \\\n",
       "ID                                                                            \n",
       "1000002330    Publishing      GBP  2015-10-09   1000.0  2015-08-11 12:12:28   \n",
       "1000003930  Film & Video      USD  2017-11-01  30000.0  2017-09-02 04:43:57   \n",
       "1000004038  Film & Video      USD  2013-02-26  45000.0  2013-01-12 00:20:50   \n",
       "1000007540         Music      USD  2012-04-16   5000.0  2012-03-17 03:24:11   \n",
       "1000011046  Film & Video      USD  2015-08-29  19500.0  2015-07-04 08:35:03   \n",
       "\n",
       "            pledged     state  backers country  usd pledged  usd_pledged_real  \\\n",
       "ID                                                                              \n",
       "1000002330      0.0    failed        0      GB          0.0               0.0   \n",
       "1000003930   2421.0    failed       15      US        100.0            2421.0   \n",
       "1000004038    220.0    failed        3      US        220.0             220.0   \n",
       "1000007540      1.0    failed        1      US          1.0               1.0   \n",
       "1000011046   1283.0  canceled       14      US       1283.0            1283.0   \n",
       "\n",
       "            usd_goal_real  \n",
       "ID                         \n",
       "1000002330        1533.95  \n",
       "1000003930       30000.00  \n",
       "1000004038       45000.00  \n",
       "1000007540        5000.00  \n",
       "1000011046       19500.00  "
      ]
     },
     "execution_count": 6,
     "metadata": {},
     "output_type": "execute_result"
    }
   ],
   "source": [
    "df2=pd.read_csv('ks-projects-201801.csv', index_col='ID')\n",
    "df2.head()"
   ]
  },
  {
   "cell_type": "markdown",
   "metadata": {},
   "source": [
    "## 2.3 Filtrowanie Serii/DataFrame\n",
    "1. Przypisujemy kolumnę do zmiennej np o nazwie zmiennej kolumny **usd_pledged_real**, z już zaimportowanego pliku do zmiennej **df1**\n",
    "\n"
   ]
  },
  {
   "cell_type": "code",
   "execution_count": 7,
   "metadata": {},
   "outputs": [
    {
     "name": "stdout",
     "output_type": "stream",
     "text": [
      "0       0.0\n",
      "1    2421.0\n",
      "2     220.0\n",
      "3       1.0\n",
      "4    1283.0\n",
      "Name: usd_pledged_real, dtype: float64\n"
     ]
    }
   ],
   "source": [
    "usd_pledged_real=df1['usd_pledged_real']\n",
    "print(usd_pledged_real.head())"
   ]
  },
  {
   "cell_type": "markdown",
   "metadata": {},
   "source": [
    "2. Zgodnie z good pactices nazywamy w nazwie zmiennej słowa filtr i przypisujmey do niej już samą kolumnę, następnie **==** wpisujemy wartość jaka nas interesuje\n"
   ]
  },
  {
   "cell_type": "code",
   "execution_count": 36,
   "metadata": {},
   "outputs": [
    {
     "name": "stdout",
     "output_type": "stream",
     "text": [
      "0    False\n",
      "1    False\n",
      "2    False\n",
      "3    False\n",
      "4    False\n",
      "Name: usd_pledged_real, dtype: bool\n"
     ]
    }
   ],
   "source": [
    "df1Filter100 = usd_pledged_real == 100\n",
    "print(df1Filter100.head())"
   ]
  },
  {
   "cell_type": "markdown",
   "metadata": {},
   "source": [
    "3. wynik zwraca zawsze wartości boolowe\n",
    "4. No i wreszcie chcemy wyświetlić wszystkie wartości z df1, które w kolumnie **usd_pledged_real** mają wartość **100**, dodatkowo usuwamy puste krotki poprzez dodanie **.dropna**\n"
   ]
  },
  {
   "cell_type": "code",
   "execution_count": 37,
   "metadata": {},
   "outputs": [
    {
     "name": "stdout",
     "output_type": "stream",
     "text": [
      "      usd pledged  usd_pledged_real\n",
      "278         100.0             100.0\n",
      "333         100.0             100.0\n",
      "395         100.0             100.0\n",
      "699         100.0             100.0\n",
      "831         100.0             100.0\n",
      "909         100.0             100.0\n",
      "1112        100.0             100.0\n",
      "1297        100.0             100.0\n",
      "1516        100.0             100.0\n",
      "1530        100.0             100.0\n"
     ]
    }
   ],
   "source": [
    "print(df1.where(df1Filter100).dropna().head(10))"
   ]
  },
  {
   "cell_type": "markdown",
   "metadata": {},
   "source": [
    "5. Można oczywiście łączyć kilka filtrów za pomocą operatora **&**\n",
    "\n",
    "**UWAGA** Najprawdopodobniej jest to filtrowanie warunkowe, a w przypadku łączenia filtrów oba warunki muszą być spełnione"
   ]
  },
  {
   "cell_type": "code",
   "execution_count": 38,
   "metadata": {},
   "outputs": [
    {
     "name": "stdout",
     "output_type": "stream",
     "text": [
      "        usd pledged  usd_pledged_real\n",
      "278           100.0             100.0\n",
      "333           100.0             100.0\n",
      "395           100.0             100.0\n",
      "699           100.0             100.0\n",
      "831           100.0             100.0\n",
      "...             ...               ...\n",
      "377900        100.0             100.0\n",
      "378043        100.0             100.0\n",
      "378093          0.0             100.0\n",
      "378461        100.0             100.0\n",
      "378640        100.0             100.0\n",
      "\n",
      "[2437 rows x 2 columns]\n"
     ]
    }
   ],
   "source": [
    "df1FilterMore100 = usd_pledged_real >= 100\n",
    "\n",
    "print(df1.where(df1Filter100 & df1FilterMore100).dropna())"
   ]
  },
  {
   "cell_type": "markdown",
   "metadata": {},
   "source": [
    "## 2.4 Czyszczenie danych"
   ]
  },
  {
   "cell_type": "markdown",
   "metadata": {},
   "source": [
    "1. Można poczyścić dane z warości NULL, dzięki metodzie **.dropna**, parametr **inplace=True** informuje o zapisaniu zmian do df1!"
   ]
  },
  {
   "cell_type": "code",
   "execution_count": 8,
   "metadata": {},
   "outputs": [],
   "source": [
    "df1.dropna(inplace=True)"
   ]
  },
  {
   "cell_type": "markdown",
   "metadata": {},
   "source": [
    "## 2.5 Zapisywanie plików"
   ]
  },
  {
   "cell_type": "markdown",
   "metadata": {},
   "source": [
    "# 3 Seria a DataFrame"
   ]
  },
  {
   "cell_type": "markdown",
   "metadata": {},
   "source": [
    "## 3.1 Seria"
   ]
  },
  {
   "cell_type": "markdown",
   "metadata": {},
   "source": [
    "### 3.1.2 Atrybuty"
   ]
  },
  {
   "cell_type": "markdown",
   "metadata": {},
   "source": [
    "1. .size - rozmiar\n",
    "2. .nbytes - ilość bytów\n",
    "3. .is_unique - czy unikalne\n",
    "4. .is_monotonic - monotoniczne lub posortowane\n",
    "5. .index - budowa indexu\n",
    "6. .values - jakie wartości\n",
    "7. .dtype - jakie typ warotści\n",
    "8. .shape - kształt\n",
    "9. .axes - współrzędne"
   ]
  },
  {
   "cell_type": "markdown",
   "metadata": {},
   "source": [
    "### 3.1.3 Metody"
   ]
  },
  {
   "cell_type": "markdown",
   "metadata": {},
   "source": [
    "1. .sum()\n",
    "2. .min()\n",
    "3. .max()\n",
    "4. .count()\n",
    "5. .size\n",
    "6. .product - wymnarza wszystko przez siebie i zwraca wynik\n",
    "6. .keys()\n",
    "7. .get_values\n",
    "8. .tolist() - przekształcenie SERIES do Listy!!!\n",
    "9. .add(10) - dodanie 10 do każdego elementu Series\n",
    "10. .reindex() - szukanie w liście\n",
    "11. .str.upper() - na duże litery\n",
    "12. .map() - mapowanie serii lub słownika\n",
    "13. .len - długość\n",
    "14. .get_dtype_counts() - zlicza ilość kolumn danego typu\n",
    "15. .values_counts() - ile jest poszczególnych wartości\n",
    "16. .sample() - losowanie kilku wartości\n",
    "17. .copy() - kopiowanie rammki danych"
   ]
  },
  {
   "cell_type": "markdown",
   "metadata": {},
   "source": [
    "## 3.2 DataFrame"
   ]
  },
  {
   "cell_type": "markdown",
   "metadata": {},
   "source": [
    "### 3.2.2 Atrybuty"
   ]
  },
  {
   "cell_type": "markdown",
   "metadata": {},
   "source": [
    "1. .size - rozmiar\n",
    "2. .nbytes - ilość bytów\n",
    "3. .is_unique - czy unikalne\n",
    "4. .is_monotonic - monotoniczne lub posortowane\n",
    "5. .index - budowa indexu\n",
    "6. .values - jakie wartości\n",
    "7. .dtype - jakie typ warotści\n",
    "8. .shape - kształt\n",
    "9. .axes - współrzędne\n",
    "10. .dtypes - jakie typ warotści\n",
    "11. .shape - ile jest wierszy i ile jest kolumn\n",
    "12. .columns - zwraca nazwy kolumny"
   ]
  },
  {
   "cell_type": "markdown",
   "metadata": {},
   "source": [
    "### 3.2.3 Metody"
   ]
  },
  {
   "cell_type": "markdown",
   "metadata": {},
   "source": [
    "1. .str.endswith('xxx') - spradza czy kończy się xxx\n",
    "2. .str.strip() - ucina na początku i końću białe znaki w tym spacje\n",
    "3. .str.split(' ') - potnie po spacji\n",
    "4. .str.split(' ',expand=True) - potnie po spacji i podzieli na kolumny\n",
    "5. .str.split(' ',expand=True, n=10) - potnie po spacji i podzieli na kolumny to na 10 kolumn po każdej spacji\n",
    "6. .sum()\n",
    "7. .min()\n",
    "8. .max()\n",
    "9. .count()\n",
    "10. .size\n",
    "11. .product - wymnarza wszystko przez siebie i zwraca wynik\n",
    "12. .keys()\n",
    "13. .get_values\n",
    "14. .tolist() - przekształcenie SERIES do Listy!!!\n",
    "15. .add(10) - dodanie 10 do każdego elementu Series\n",
    "16. .reindex() - szukanie w liście\n",
    "17. .str.upper() - na duże litery\n",
    "18. .map() - mapowanie serii lub słownika\n",
    "19. .len - długość\n",
    "20. .get_dtype_counts() - zlicza ilość kolumn danego typu\n",
    "21. .info() - ile wartości w kolumnach i jakego typu\n",
    "22. .values_counts() - ile jest poszczególnych wartości trzeba określić jednak kolumnę\n",
    "23. .sample() - losowanie kilku wartości\n",
    "24. .nlargest() - największe wartości dla (1,'nazwa kolumny')\n",
    "25. .rename - zmiana nazwy kolumny .rename({'SupplierID':'CustomerID'},axis='columns',inplace=True)\n",
    "26. .set_index - ustawiamy index\n",
    "27. .groupby(by=[kolumny]) - budowa multiindexu\n",
    "28. .get_group((val1,val2)) - wydobywanie grupy z multiindexu\n",
    "29. .agg()\n",
    "30. groups.agg({'Revenue':['sum','min','max'],\n",
    "           'Quantity':'sum',\n",
    "           'Gross margin':'mean'}).head()\n",
    "31. my_aggregation = ['sum','min','max']\n",
    "32. groups.agg({'Revenue':my_aggregation,\n",
    "           'Quantity':my_aggregation,\n",
    "           'Gross margin':'mean'}).head()"
   ]
  },
  {
   "cell_type": "code",
   "execution_count": null,
   "metadata": {},
   "outputs": [],
   "source": []
  }
 ],
 "metadata": {
  "kernelspec": {
   "display_name": "Python 3",
   "language": "python",
   "name": "python3"
  },
  "language_info": {
   "codemirror_mode": {
    "name": "ipython",
    "version": 3
   },
   "file_extension": ".py",
   "mimetype": "text/x-python",
   "name": "python",
   "nbconvert_exporter": "python",
   "pygments_lexer": "ipython3",
   "version": "3.7.3"
  }
 },
 "nbformat": 4,
 "nbformat_minor": 2
}
