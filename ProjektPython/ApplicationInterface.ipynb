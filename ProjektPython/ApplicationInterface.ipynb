{
 "cells": [
  {
   "cell_type": "code",
   "execution_count": null,
   "metadata": {},
   "outputs": [],
   "source": [
    "# imports and definitions\n",
    "\n",
    "# potrzebne biblioteki\n",
    "import os\n",
    "import glob\n",
    "import sys\n",
    "import pandas as pd\n",
    "import ipywidgets as widgets\n",
    "\n",
    "# nasze definicje zmiennych i funkcji\n",
    "sys.path.insert(0, os.path.abspath('./src'))\n",
    "import interface_def_v02 as intdef\n",
    "import success_rate_def as sr\n",
    "from DataFrameLimiter_v02 import limiter\n",
    "\n",
    "# załadowanie pliku z danymi\n",
    "file_path = (glob.glob(os.path.join(os.path.abspath(''), '**', '*kickstarter_filtered*.tsv'), recursive=True))\n",
    "DF = pd.read_csv(file_path[0], header = 0, sep='\\t')\n"
   ]
  },
  {
   "cell_type": "code",
   "execution_count": null,
   "metadata": {},
   "outputs": [],
   "source": [
    "import ipywidgets as widgets\n",
    "from IPython.display import display, HTML\n",
    "\n",
    "javascript_functions = {False: \"hide()\", True: \"show()\"}\n",
    "button_descriptions  = {False: \"Show code\", True: \"Hide code\"}\n",
    "\n",
    "\n",
    "def toggle_code(state):\n",
    "\n",
    "    \"\"\"\n",
    "    Toggles the JavaScript show()/hide() function on the div.input element.\n",
    "    \"\"\"\n",
    "\n",
    "    output_string = \"<script>$(\\\"div.input\\\").{}</script>\"\n",
    "    output_args   = (javascript_functions[state],)\n",
    "    output        = output_string.format(*output_args)\n",
    "\n",
    "    display(HTML(output))\n",
    "\n",
    "\n",
    "def button_action(value):\n",
    "\n",
    "    \"\"\"\n",
    "    Calls the toggle_code function and updates the button description.\n",
    "    \"\"\"\n",
    "\n",
    "    state = value.new\n",
    "\n",
    "    toggle_code(state)\n",
    "\n",
    "    value.owner.description = button_descriptions[state]\n",
    "\n",
    "\n",
    "state = False\n",
    "toggle_code(state)\n",
    "\n",
    "button = widgets.ToggleButton(state, description = button_descriptions[state])\n",
    "button.observe(button_action, \"value\")\n",
    "\n",
    "display(button)"
   ]
  },
  {
   "cell_type": "code",
   "execution_count": null,
   "metadata": {},
   "outputs": [],
   "source": [
    "# frontend\n",
    "\n",
    "print('Set your campaigns parameters.\\n')\n",
    "print('Choose \"0\" in Duration or Goal not to consider these parameters in searching for similar campaigns.')\n",
    "\n",
    "#funkcja pomocnicza, która wywołuje backendowe funkcje i przekazuje wynik do wyświetlenia\n",
    "def f(a,b,c,d,e,f,g):\n",
    "    result = limiter(DF,a,b,c,d,e,f)\n",
    "    final_output = sr.success_ratio(result)\n",
    "    print('\\n\\nGood luck with your \\\"',g,'\\\" campaign!!!')\n",
    "\n",
    "# zmienna, która jest widgetem nie pobierającym dane, ale wyświetlającym je - jako parametry przekazujemy \n",
    "# funkcję pomocniczą oraz słownik postaci {'nazwa parametru w definicji funkcji':wartość przekazywana}\n",
    "# patrz w def f(a,b,c...)\n",
    "out = widgets.interactive_output(f, {'a': intdef.main_category,'b': intdef.sub_category,'c': intdef.goal,'d': intdef.duration, 'e': intdef.country, 'f': intdef.currency, 'g': intdef.campaign_name})\n",
    "\n",
    "# display wszystkich widgetów - tych do ustawiania parametrów i na końcu OUT\n",
    "widgets.VBox([intdef.campaign_name,intdef.main_category,intdef.sub_category,intdef.duration,intdef.country,intdef.currency,intdef.goal,intdef.goal_in_usd,out] )\n"
   ]
  }
 ],
 "metadata": {
  "kernelspec": {
   "display_name": "Python 3",
   "language": "python",
   "name": "python3"
  },
  "language_info": {
   "codemirror_mode": {
    "name": "ipython",
    "version": 3
   },
   "file_extension": ".py",
   "mimetype": "text/x-python",
   "name": "python",
   "nbconvert_exporter": "python",
   "pygments_lexer": "ipython3",
   "version": "3.7.6"
  }
 },
 "nbformat": 4,
 "nbformat_minor": 2
}
