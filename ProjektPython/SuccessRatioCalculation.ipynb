{
 "cells": [
  {
   "cell_type": "code",
   "execution_count": 45,
   "metadata": {},
   "outputs": [],
   "source": [
    "import pandas as pd\n",
    "import os\n",
    "from matplotlib import pyplot\n",
    "\n",
    "filename = \"kickstarter_public_kickstarter_filtered.tsv\""
   ]
  },
  {
   "cell_type": "code",
   "execution_count": 46,
   "metadata": {},
   "outputs": [],
   "source": [
    "file_path = os.path.join(os.path.abspath(\"\"), \"kickstarter_public_kickstarter_filtered.tsv\")"
   ]
  },
  {
   "cell_type": "code",
   "execution_count": 47,
   "metadata": {},
   "outputs": [],
   "source": [
    "data_frame = pd.read_csv(\"kickstarter_public_kickstarter_filtered.tsv\",sep=\"\\t\")"
   ]
  },
  {
   "cell_type": "code",
   "execution_count": 48,
   "metadata": {},
   "outputs": [],
   "source": [
    "def success_ratio(data_frame):\n",
    "    \n",
    "    \n",
    "    if data_frame['state'][data_frame['state']=='successful'].count()>0 and (data_frame['state'][data_frame['state']=='failed'].count()+data_frame['state'][data_frame['state']=='canceled'].count())>0:\n",
    "        success_ratio = (data_frame['state'][data_frame['state']=='successful'].count())/(data_frame['state'][data_frame['state']=='failed'].count()+data_frame['state'][data_frame['state']=='canceled'].count()+data_frame['state'][data_frame['state']=='successful'].count())\n",
    "        if data_frame.shape[0] < 50:\n",
    "            print('Dear user, due to the fact that the database is limited based on your criterias we suggested to change subcategories, country of your business to not considered')\n",
    "        print('Overall success ratio is: ',round(success_ratio,2)*100,'%')\n",
    "        return success_ratio\n",
    "    else:\n",
    "        print('No data available')"
   ]
  },
  {
   "cell_type": "code",
   "execution_count": 42,
   "metadata": {},
   "outputs": [
    {
     "name": "stdout",
     "output_type": "stream",
     "text": [
      "Overall success ratio is:  42.0 %\n"
     ]
    },
    {
     "data": {
      "text/plain": [
       "0.419"
      ]
     },
     "execution_count": 42,
     "metadata": {},
     "output_type": "execute_result"
    }
   ],
   "source": [
    "success_ratio(data_frame[:1000])"
   ]
  }
 ],
 "metadata": {
  "kernelspec": {
   "display_name": "Python 3",
   "language": "python",
   "name": "python3"
  },
  "language_info": {
   "codemirror_mode": {
    "name": "ipython",
    "version": 3
   },
   "file_extension": ".py",
   "mimetype": "text/x-python",
   "name": "python",
   "nbconvert_exporter": "python",
   "pygments_lexer": "ipython3",
   "version": "3.7.4"
  }
 },
 "nbformat": 4,
 "nbformat_minor": 2
}
