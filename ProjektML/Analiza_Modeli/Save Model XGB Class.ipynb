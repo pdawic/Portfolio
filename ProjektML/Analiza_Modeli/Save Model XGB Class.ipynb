{
 "cells": [
  {
   "cell_type": "code",
   "execution_count": 40,
   "metadata": {},
   "outputs": [],
   "source": [
    "import pandas as pd\n",
    "import numpy as np\n",
    "import pickle\n",
    "\n",
    "import xgboost as xgb\n",
    "\n",
    "from sklearn.metrics import r2_score, mean_squared_error, mean_absolute_error,accuracy_score,\n",
    "from sklearn.model_selection import GridSearchCV, train_test_split, cross_val_score\n",
    "import time\n",
    "import matplotlib.pyplot as plt\n",
    "\n",
    "from sklearn.model_selection import GridSearchCV, RandomizedSearchCV\n",
    "\n",
    "\n",
    "\n",
    "\n",
    "import ipywidgets as widgets\n",
    "from IPython.display import display, clear_output"
   ]
  },
  {
   "cell_type": "code",
   "execution_count": 90,
   "metadata": {},
   "outputs": [],
   "source": [
    "dev_df=pd.read_csv(\"../dfs/full_df.csv\")\n",
    "#dev_df=pd.read_csv(\"../dfs/dev_df.csv\")\n",
    "\n",
    "dev_df_ok = dev_df[dev_df['state'] == 0]\n",
    "#'Unnamed: 0',\n",
    "\n",
    "x_dev=dev_df.drop(['pledged_in_usd','Unnamed: 0','percentage_of_money_collected','backers', 'state'], axis=1)\n",
    "\n",
    "#x_dev=dev_df.drop(['pledged_in_usd','percentage_of_money_collected','backers', 'state'], axis=1)#[dev_df['goal_in_usd'] <= 1000000]\n",
    "\n",
    "y_dev=dev_df['state']#[dev_df['goal_in_usd'] <= 1000000]"
   ]
  },
  {
   "cell_type": "code",
   "execution_count": 91,
   "metadata": {},
   "outputs": [
    {
     "data": {
      "text/html": [
       "<div>\n",
       "<style scoped>\n",
       "    .dataframe tbody tr th:only-of-type {\n",
       "        vertical-align: middle;\n",
       "    }\n",
       "\n",
       "    .dataframe tbody tr th {\n",
       "        vertical-align: top;\n",
       "    }\n",
       "\n",
       "    .dataframe thead th {\n",
       "        text-align: right;\n",
       "    }\n",
       "</style>\n",
       "<table border=\"1\" class=\"dataframe\">\n",
       "  <thead>\n",
       "    <tr style=\"text-align: right;\">\n",
       "      <th></th>\n",
       "      <th>main_cat_cat</th>\n",
       "      <th>country</th>\n",
       "      <th>duration</th>\n",
       "      <th>currency</th>\n",
       "      <th>goal_in_usd</th>\n",
       "    </tr>\n",
       "  </thead>\n",
       "  <tbody>\n",
       "    <tr>\n",
       "      <th>0</th>\n",
       "      <td>80</td>\n",
       "      <td>21</td>\n",
       "      <td>30</td>\n",
       "      <td>13</td>\n",
       "      <td>500.00</td>\n",
       "    </tr>\n",
       "    <tr>\n",
       "      <th>1</th>\n",
       "      <td>54</td>\n",
       "      <td>7</td>\n",
       "      <td>30</td>\n",
       "      <td>5</td>\n",
       "      <td>3315.48</td>\n",
       "    </tr>\n",
       "    <tr>\n",
       "      <th>2</th>\n",
       "      <td>0</td>\n",
       "      <td>21</td>\n",
       "      <td>31</td>\n",
       "      <td>13</td>\n",
       "      <td>18000.00</td>\n",
       "    </tr>\n",
       "    <tr>\n",
       "      <th>3</th>\n",
       "      <td>154</td>\n",
       "      <td>21</td>\n",
       "      <td>45</td>\n",
       "      <td>13</td>\n",
       "      <td>60000.00</td>\n",
       "    </tr>\n",
       "    <tr>\n",
       "      <th>4</th>\n",
       "      <td>159</td>\n",
       "      <td>21</td>\n",
       "      <td>45</td>\n",
       "      <td>13</td>\n",
       "      <td>75000.00</td>\n",
       "    </tr>\n",
       "  </tbody>\n",
       "</table>\n",
       "</div>"
      ],
      "text/plain": [
       "   main_cat_cat  country  duration  currency  goal_in_usd\n",
       "0            80       21        30        13       500.00\n",
       "1            54        7        30         5      3315.48\n",
       "2             0       21        31        13     18000.00\n",
       "3           154       21        45        13     60000.00\n",
       "4           159       21        45        13     75000.00"
      ]
     },
     "execution_count": 91,
     "metadata": {},
     "output_type": "execute_result"
    }
   ],
   "source": [
    "x_dev.head()"
   ]
  },
  {
   "cell_type": "code",
   "execution_count": 92,
   "metadata": {
    "scrolled": true
   },
   "outputs": [
    {
     "data": {
      "text/plain": [
       "0    1\n",
       "1    0\n",
       "2    1\n",
       "3    0\n",
       "4    0\n",
       "Name: state, dtype: int64"
      ]
     },
     "execution_count": 92,
     "metadata": {},
     "output_type": "execute_result"
    }
   ],
   "source": [
    "y_dev.head()"
   ]
  },
  {
   "cell_type": "code",
   "execution_count": 93,
   "metadata": {},
   "outputs": [
    {
     "name": "stdout",
     "output_type": "stream",
     "text": [
      "(368238, 5)\n",
      "(368238,)\n"
     ]
    }
   ],
   "source": [
    "print(x_dev.shape)\n",
    "print(y_dev.shape)"
   ]
  },
  {
   "cell_type": "code",
   "execution_count": 94,
   "metadata": {
    "scrolled": true
   },
   "outputs": [
    {
     "name": "stdout",
     "output_type": "stream",
     "text": [
      "(294590, 5)\n",
      "(73648, 5)\n",
      "(294590,)\n",
      "(73648,)\n"
     ]
    }
   ],
   "source": [
    "x_train, x_test, y_train, y_test = train_test_split(x_dev, y_dev, test_size=0.2, random_state = 42)\n",
    "print(x_train.shape)\n",
    "print(x_test.shape)\n",
    "print(y_train.shape)\n",
    "print(y_test.shape)"
   ]
  },
  {
   "cell_type": "code",
   "execution_count": 96,
   "metadata": {},
   "outputs": [],
   "source": [
    "dm_train = xgb.DMatrix(x_train,y_train)\n",
    "dm_test = xgb.DMatrix(x_test,y_test)"
   ]
  },
  {
   "cell_type": "code",
   "execution_count": 23,
   "metadata": {},
   "outputs": [],
   "source": [
    "Saved = []"
   ]
  },
  {
   "cell_type": "code",
   "execution_count": 55,
   "metadata": {},
   "outputs": [
    {
     "data": {
      "text/plain": [
       "XGBRFClassifier(base_score=0.5, colsample_bylevel=1, colsample_bynode=0.8,\n",
       "                colsample_bytree=1, gamma=0, learning_rate=1, max_delta_step=0,\n",
       "                max_depth=3, min_child_weight=1, missing=None, n_estimators=100,\n",
       "                n_jobs=1, nthread=None, objective='binary:logistic',\n",
       "                random_state=0, reg_alpha=0, reg_lambda=1, scale_pos_weight=1,\n",
       "                seed=None, silent=None, subsample=0.8, verbosity=1)"
      ]
     },
     "execution_count": 55,
     "metadata": {},
     "output_type": "execute_result"
    }
   ],
   "source": [
    "xgb.XGBClassifier()\n",
    "xgb.XGBRFClassifier()\n"
   ]
  },
  {
   "cell_type": "code",
   "execution_count": 86,
   "metadata": {},
   "outputs": [],
   "source": [
    "params3 = {\"objective\":\"binary:logistic\", 'learning_rate': 0.1, \"max_depth\":3, 'min_child_weight':1, \"booster\":\"gbtree\", 'gamma': 0,'reg_alpha' : 0, \n",
    "            'importance_type':'gain','reg_lambda' : 1,'num_parallel_tree': 1, \"n_jobs\" : 4}\n",
    "\n",
    "boosts3 = {\"n_rounds\":100}"
   ]
  },
  {
   "cell_type": "code",
   "execution_count": 97,
   "metadata": {},
   "outputs": [],
   "source": [
    "\n",
    "def run_model3(button):\n",
    "    #global time_model3\n",
    "    #time_model3 = %timeit -n1 -r1 -o xgb.train(params3, dm_train, num_boost_round=boosts3['n_rounds'] )\n",
    "    #global model3\n",
    "    t0=time.time()\n",
    "    \n",
    "    global model3\n",
    "    model3 = xgb.XGBClassifier(**params3,n_estimators=boosts3['n_rounds'] )\n",
    "    #model3 = xgb.train(params3, dm_train, num_boost_round=boosts3['n_rounds'])\n",
    "    model3.fit(x_train,y_train)\n",
    "    tend = time.time()\n",
    "    \n",
    "\n",
    "    preds3 = model3.predict(x_test)\n",
    "    print(preds3)\n",
    "    global score_train\n",
    "    score_train = model3.score(x_train,y_train)\n",
    "    score_test = model3.score(x_test,y_test)\n",
    "\n",
    "    \n",
    "    global acc_score3\n",
    "    acc_score3 = accuracy_score(y_test, preds3)\n",
    "    \n",
    "\n",
    "    \n",
    "    global train_time\n",
    "    train_time = tend - t0\n",
    "    \n",
    "\n",
    "\n",
    "    #print(f'\\nmodel3 train time = {time_model3.average} s')\n",
    "    print(f'Training time: {train_time}')\n",
    "    print(f'\\nmodel3 TEST accuracy: {acc_score3}')\n",
    "\n",
    "    print(f'model TRAIN acc score: {score_train}')\n",
    "\n",
    "\n",
    "    \n",
    "    #print('\\n',model3cv)\n",
    "    \n",
    "def cv_model3(button):\n",
    "    cvt0=time.time()\n",
    "\n",
    "    model3cv = xgb.cv(params3, dm_train, num_boost_round=boosts3['n_rounds'], nfold=4, metrics=['error'] )\n",
    "    cvtend = time.time()\n",
    "    \n",
    "    \n",
    "    rmse_val_train = model3cv['train-error-mean'].to_numpy()\n",
    "    rmse_val_test = model3cv['test-error-mean'].to_numpy()\n",
    "    \n",
    "#     mae_val_train = model3cv['train-mae-mean'].to_numpy()\n",
    "#     mae_val_test = model3cv['test-mae-mean'].to_numpy()\n",
    "    \n",
    "    \n",
    "    plt.figure(figsize=(25,10))\n",
    "#     plt.subplot(1,2,2)\n",
    "#     plt.plot(mae_val_train)\n",
    "#     plt.plot(mae_val_test)\n",
    "#     plt.legend(['TRAIN MAE','TEST MAE'])\n",
    "#     #plt.show()\n",
    "    \n",
    "#     plt.subplot(1,2,1)\n",
    "    plt.plot(rmse_val_train)\n",
    "    plt.plot(rmse_val_test)\n",
    "    plt.legend(['TRAIN RMSE','TEST RMSE'])\n",
    "    plt.show()\n"
   ]
  },
  {
   "cell_type": "code",
   "execution_count": 98,
   "metadata": {},
   "outputs": [
    {
     "data": {
      "text/plain": [
       "'SELECT MODEL PARAMETERS'"
      ]
     },
     "metadata": {},
     "output_type": "display_data"
    },
    {
     "data": {
      "application/vnd.jupyter.widget-view+json": {
       "model_id": "aa72b7eb12814fe2bd2d905cd58875c5",
       "version_major": 2,
       "version_minor": 0
      },
      "text/plain": [
       "HBox(children=(Label(value='Choose booster:'), Dropdown(options=('gbtree', 'dart', 'linear'), value='gbtree'))…"
      ]
     },
     "metadata": {},
     "output_type": "display_data"
    },
    {
     "data": {
      "application/vnd.jupyter.widget-view+json": {
       "model_id": "3077f3da04234f008edad594b1d3ff38",
       "version_major": 2,
       "version_minor": 0
      },
      "text/plain": [
       "HBox(children=(Label(value='Number of trees in forest:'), IntSlider(value=1, min=1)))"
      ]
     },
     "metadata": {},
     "output_type": "display_data"
    },
    {
     "data": {
      "application/vnd.jupyter.widget-view+json": {
       "model_id": "7420cdf6fcee446f925049dfdccb838f",
       "version_major": 2,
       "version_minor": 0
      },
      "text/plain": [
       "HBox(children=(Label(value='Number of boost rounds:'), IntSlider(value=380, max=2000, min=10, step=10)))"
      ]
     },
     "metadata": {},
     "output_type": "display_data"
    },
    {
     "data": {
      "application/vnd.jupyter.widget-view+json": {
       "model_id": "32109b2719324a578942c27c68b48d97",
       "version_major": 2,
       "version_minor": 0
      },
      "text/plain": [
       "HBox(children=(Label(value='Learning rate (eta):'), FloatSlider(value=0.15, max=1.0, min=0.01, step=0.01)))"
      ]
     },
     "metadata": {},
     "output_type": "display_data"
    },
    {
     "data": {
      "application/vnd.jupyter.widget-view+json": {
       "model_id": "cb55b0feaafb43da9f3bb1ad8e335054",
       "version_major": 2,
       "version_minor": 0
      },
      "text/plain": [
       "HBox(children=(Label(value='Depth of single tree :'), IntSlider(value=3, max=20, min=1)))"
      ]
     },
     "metadata": {},
     "output_type": "display_data"
    },
    {
     "data": {
      "application/vnd.jupyter.widget-view+json": {
       "model_id": "f9ff092f29f845c289f6ea6fbd1f0911",
       "version_major": 2,
       "version_minor": 0
      },
      "text/plain": [
       "HBox(children=(Label(value='min child weight :'), IntSlider(value=1, max=50, min=1)))"
      ]
     },
     "metadata": {},
     "output_type": "display_data"
    },
    {
     "data": {
      "application/vnd.jupyter.widget-view+json": {
       "model_id": "a9d4f9de693c434f8c34c7b4bf8c4dd7",
       "version_major": 2,
       "version_minor": 0
      },
      "text/plain": [
       "HBox(children=(Label(value='Gamma:'), FloatSlider(value=0.6000000000000001, max=20.0, step=0.01)))"
      ]
     },
     "metadata": {},
     "output_type": "display_data"
    },
    {
     "data": {
      "application/vnd.jupyter.widget-view+json": {
       "model_id": "c804ca9cd1bf43468391ac2eb8fe2cd1",
       "version_major": 2,
       "version_minor": 0
      },
      "text/plain": [
       "HBox(children=(Label(value='L2 Regularization (Lambda):'), FloatSlider(value=1.9000000000000001, max=50.0, ste…"
      ]
     },
     "metadata": {},
     "output_type": "display_data"
    },
    {
     "data": {
      "application/vnd.jupyter.widget-view+json": {
       "model_id": "c9be77cfe10f4b37b7935809c2149916",
       "version_major": 2,
       "version_minor": 0
      },
      "text/plain": [
       "HBox(children=(Label(value='L1 Regularization (Alpha):'), FloatSlider(value=1.7000000000000002, max=50.0, step…"
      ]
     },
     "metadata": {},
     "output_type": "display_data"
    },
    {
     "data": {
      "application/vnd.jupyter.widget-view+json": {
       "model_id": "3efa20ce38474b6c90200dbe3f90a218",
       "version_major": 2,
       "version_minor": 0
      },
      "text/plain": [
       "HBox(children=(Label(value='importance_type:'), Dropdown(options=('gain', 'weight', 'cover', 'total_gain', 'to…"
      ]
     },
     "metadata": {},
     "output_type": "display_data"
    },
    {
     "data": {
      "application/vnd.jupyter.widget-view+json": {
       "model_id": "8d5c8babfffc4a82accf0939e1288c7c",
       "version_major": 2,
       "version_minor": 0
      },
      "text/plain": [
       "HBox(children=(Button(description='Update params', style=ButtonStyle()), Button(description='Run Model 3', sty…"
      ]
     },
     "metadata": {},
     "output_type": "display_data"
    },
    {
     "data": {
      "application/vnd.jupyter.widget-view+json": {
       "model_id": "0bb2b1f05d6f47d490b7447d5d027f97",
       "version_major": 2,
       "version_minor": 0
      },
      "text/plain": [
       "HBox(children=(IntText(value=0), Button(description='Restore saved', style=ButtonStyle()), Button(description=…"
      ]
     },
     "metadata": {},
     "output_type": "display_data"
    },
    {
     "data": {
      "application/vnd.jupyter.widget-view+json": {
       "model_id": "0ba928cb5ad44d3d9f5b4a4512c7d439",
       "version_major": 2,
       "version_minor": 0
      },
      "text/plain": [
       "HBox(children=(Button(description='Use best found random', style=ButtonStyle()),))"
      ]
     },
     "metadata": {},
     "output_type": "display_data"
    },
    {
     "name": "stdout",
     "output_type": "stream",
     "text": [
      "Boost rounds:   380 , Other parameters:  {'objective': 'binary:logistic', 'learning_rate': 0.15, 'max_depth': 3, 'min_child_weight': 1, 'booster': 'gbtree', 'gamma': 0.6000000000000001, 'reg_alpha': 1.7000000000000002, 'importance_type': 'gain', 'reg_lambda': 1.9000000000000001, 'num_parallel_tree': 1, 'n_jobs': 4}\n",
      "[1 0 0 ... 0 0 0]\n",
      "Training time: 14.577523946762085\n",
      "\n",
      "model3 TEST accuracy: 0.701295350858136\n",
      "model TRAIN acc score: 0.7014902067279949\n"
     ]
    }
   ],
   "source": [
    "run_model_button = widgets.Button(description=\"Run Model 3\")\n",
    "run_model_button.on_click(run_model3)\n",
    "\n",
    "\n",
    "cv_model_button = widgets.Button(description=\"Check CV (4-fold)\")\n",
    "cv_model_button.on_click(cv_model3)\n",
    "\n",
    "######## number of boost rounds\n",
    "boost_slider = widgets.IntSlider(100,10,2000,10)\n",
    "boost_num = widgets.HBox([widgets.Label('Number of boost rounds:'),boost_slider])\n",
    "\n",
    "######## number of parallel_trees\n",
    "\n",
    "forest_slider = widgets.IntSlider(1,1,100)\n",
    "forest_num = widgets.HBox([widgets.Label('Number of trees in forest:'),forest_slider])\n",
    "\n",
    "\n",
    "####### learning_rate slider\n",
    "learning_rate_slider = widgets.FloatSlider(value = 0.2, min = 0.01, max = 1.0, step = 0.01)\n",
    "learnig_rate = widgets.HBox([widgets.Label('Learning rate (eta):'),learning_rate_slider])\n",
    "\n",
    "\n",
    "######## tree depth\n",
    "depth_slider = widgets.IntSlider(5,1,20,1)\n",
    "depth = widgets.HBox([widgets.Label('Depth of single tree :'),depth_slider])\n",
    "\n",
    "######## min_child_weight\n",
    "child_slider = widgets.IntSlider(1,1,50,1)\n",
    "min_child = widgets.HBox([widgets.Label('min child weight :'),child_slider])\n",
    "\n",
    "######### booster type dropdown\n",
    "boosters_list = ['gbtree','dart','linear']\n",
    "booster_choice = widgets.Dropdown(options=boosters_list)\n",
    "booster_menu = widgets.HBox([widgets.Label('Choose booster:'),booster_choice])\n",
    "\n",
    "\n",
    "####### gamma slider\n",
    "gamma_slider = widgets.FloatSlider(value = 0, min = 0.00, max = 20.0, step = 0.01)\n",
    "gamma = widgets.HBox([widgets.Label('Gamma:'),gamma_slider])\n",
    "\n",
    "\n",
    "####### alpha slider\n",
    "alpha_slider = widgets.FloatSlider(value = 0, min = 0.00, max = 50.0, step = 0.01)\n",
    "alpha_reg = widgets.HBox([widgets.Label('L1 Regularization (Alpha):'),alpha_slider])\n",
    "\n",
    "####### lambda slider\n",
    "lambda_slider = widgets.FloatSlider(value = 1.0, min = 0.00, max = 50.0, step = 0.01)\n",
    "lambda_reg = widgets.HBox([widgets.Label('L2 Regularization (Lambda):'),lambda_slider])\n",
    "\n",
    "######### booster type dropdown\n",
    "importance_list = [\"gain\", \"weight\", \"cover\", \"total_gain\", \"total_cover\"]\n",
    "importance_choice = widgets.Dropdown(options=importance_list)\n",
    "importance_menu = widgets.HBox([widgets.Label('importance_type:'),importance_choice])\n",
    "\n",
    "\n",
    "\n",
    "def params3_updater(button):\n",
    "    boosts3['n_rounds'] =           boost_slider.value\n",
    "    boosts3['num_parallel_tree'] =  forest_slider.value\n",
    "    \n",
    "    params3[\"booster\"] =            booster_choice.value\n",
    "    params3[\"learning_rate\"] =      learning_rate_slider.value\n",
    "    params3[\"max_depth\"] =          depth_slider.value\n",
    "    params3['min_child_weight'] =   child_slider.value\n",
    "    params3[\"gamma\"] =              gamma_slider.value\n",
    "    params3[\"reg_lambda\"] =         lambda_slider.value\n",
    "    params3[\"reg_alpha\"] =          alpha_slider.value\n",
    "    params3['importance_type'] =    importance_choice.value\n",
    "    clear_output()\n",
    "    run_gui()\n",
    "    print('Boost rounds:  ',boosts3['n_rounds'],', Other parameters: ',params3)\n",
    "    \n",
    "update_button = widgets.Button(description=\"Update params\")\n",
    "update_button.on_click(params3_updater)\n",
    "\n",
    "\n",
    "def save_params(button):\n",
    "    Saved.append({'ID': len(Saved),\n",
    "                  'SCORE TEST': acc_score3 ,\n",
    "                  'TRAIN SCORE':score_train,\n",
    "                  'TrAIN TIME' : train_time,\n",
    "                  'num_parallel_tree':params3[\"num_parallel_tree\"],\n",
    "                  'n_rounds': boosts3['n_rounds'],\n",
    "                  \"booster\": params3[\"booster\"],\n",
    "                  \"learning_rate\":params3[\"learning_rate\"],\n",
    "                  \"max_depth\":params3[\"max_depth\"],\n",
    "                  'min_child_weight':params3['min_child_weight'],\n",
    "                  'gamma':params3[\"gamma\"],\n",
    "                  'reg_lambda':params3[\"reg_lambda\"],\n",
    "                  'reg_alpha':params3[\"reg_alpha\"],\n",
    "                  'importance_type':params3['importance_type']\n",
    "                 })\n",
    "    print('saved!')\n",
    "\n",
    "save_button = widgets.Button(description=\"Save params and score\")\n",
    "save_button.on_click(save_params)\n",
    "\n",
    "def show_Saved(button):\n",
    "    clear_output()\n",
    "    run_gui()\n",
    "    for el in Saved:\n",
    "        print(el)\n",
    "\n",
    "show_button = widgets.Button(description=\"Show saved\")\n",
    "show_button.on_click(show_Saved)\n",
    "\n",
    "\n",
    "\n",
    "def restore_saved(button):\n",
    "    n = restore_number.value\n",
    "    boosts3['n_rounds'] = Saved[n]['n_rounds']\n",
    "    params3[\"booster\"] = Saved[n]['booster']\n",
    "    params3[\"num_parallel_tree\"] = Saved[n]['num_parallel_tree']\n",
    "    params3[\"learning_rate\"] = Saved[n]['learning_rate']\n",
    "    params3[\"max_depth\"] = Saved[n]['max_depth']\n",
    "    params3['min_child_weight'] = Saved[n]['min_child_weight']\n",
    "    params3[\"gamma\"] = Saved[n]['gamma']\n",
    "    params3[\"reg_lambda\"] = Saved[n]['reg_lambda']\n",
    "    params3[\"reg_alpha\"] = Saved[n]['reg_alpha']\n",
    "    params3['importance_type'] = Saved[n]['importance_type']\n",
    "    \n",
    "    boost_slider.value          = Saved[n]['n_rounds'] \n",
    "    booster_choice.value        = Saved[n]['booster']\n",
    "    forest_slider.value         = Saved[n]['num_parallel_tree']\n",
    "    learning_rate_slider.value  = Saved[n]['learning_rate']\n",
    "    depth_slider.value          = Saved[n]['max_depth']\n",
    "    child_slider.value          = Saved[n]['min_child_weight']\n",
    "    gamma_slider.value          = Saved[n]['gamma']\n",
    "    lambda_slider.value         = Saved[n]['reg_lambda']\n",
    "    alpha_slider.value          = Saved[n]['reg_alpha']\n",
    "    importance_choice.value     = Saved[n]['importance_type']\n",
    "    clear_output()\n",
    "    run_gui()\n",
    "    print('Boost rounds:  ',boosts3['n_rounds'],', Other parameters: ',params3)\n",
    "    \n",
    "restore_number = widgets.IntText(0)    \n",
    "\n",
    "restore_button = widgets.Button(description=\"Restore saved\")\n",
    "restore_button.on_click(restore_saved)\n",
    "    \n",
    "def set_best_random(button):\n",
    "    boosts3['n_rounds'] =          xgbr_search.best_params_['n_estimators']\n",
    "    params3[\"booster\"] =           xgbr_search.best_params_['booster']\n",
    "    params3[\"num_parallel_tree\"] = xgbr_search.best_params_['num_parallel_tree']\n",
    "    params3[\"learning_rate\"] =     xgbr_search.best_params_['learning_rate']\n",
    "    params3[\"max_depth\"] =         xgbr_search.best_params_['max_depth']\n",
    "    params3['min_child_weight'] =  xgbr_search.best_params_['min_child_weight']\n",
    "    params3[\"gamma\"] =             xgbr_search.best_params_['gamma']\n",
    "    params3[\"reg_lambda\"] =        xgbr_search.best_params_['reg_lambda']\n",
    "    params3[\"reg_alpha\"] =         xgbr_search.best_params_['reg_alpha']\n",
    "    \n",
    "    boost_slider.value          = xgbr_search.best_params_['n_estimators'] \n",
    "    booster_choice.value        = xgbr_search.best_params_['booster']\n",
    "    forest_slider.value         = xgbr_search.best_params_['num_parallel_tree']\n",
    "    learning_rate_slider.value  = xgbr_search.best_params_['learning_rate']\n",
    "    depth_slider.value          = xgbr_search.best_params_['max_depth']\n",
    "    child_slider.value          = xgbr_search.best_params_['min_child_weight']\n",
    "    gamma_slider.value          = xgbr_search.best_params_['gamma']\n",
    "    lambda_slider.value         = xgbr_search.best_params_['reg_lambda']\n",
    "    alpha_slider.value          = xgbr_search.best_params_['reg_alpha']\n",
    "    clear_output()\n",
    "    run_gui()\n",
    "    print('Boost rounds:  ',boosts3['n_rounds'],', Other parameters: ',params3)\n",
    "\n",
    "best_random_button = widgets.Button(description=\"Use best found random\")\n",
    "best_random_button.on_click(set_best_random)\n",
    "\n",
    "######## GUI ##########\n",
    "\n",
    "def run_gui():\n",
    "    display('SELECT MODEL PARAMETERS')\n",
    "    display(booster_menu,forest_num,boost_num,learnig_rate,depth,min_child,gamma,lambda_reg,alpha_reg,importance_menu)\n",
    "\n",
    "    display(widgets.HBox([update_button,run_model_button,save_button,show_button]))\n",
    "    display(widgets.HBox([restore_number, restore_button, cv_model_button]))\n",
    "    display(widgets.HBox([best_random_button]))\n",
    "\n",
    "\n",
    "\n",
    "    \n",
    "\n",
    "run_gui()"
   ]
  },
  {
   "cell_type": "code",
   "execution_count": 99,
   "metadata": {},
   "outputs": [],
   "source": [
    "pkl_filename = \"model_class.pickle\"\n",
    "with open(pkl_filename, 'wb') as file:\n",
    "    pickle.dump(model3, file)"
   ]
  },
  {
   "cell_type": "code",
   "execution_count": 89,
   "metadata": {},
   "outputs": [
    {
     "name": "stdout",
     "output_type": "stream",
     "text": [
      "{'reg_lambda': 1.9000000000000001, 'reg_alpha': 1.7000000000000002, 'objective': 'binary:logistic', 'num_parallel_tree': 1, 'n_estimators': 380, 'min_child_weight': 1, 'max_depth': 3, 'learning_rate': 0.15, 'gamma': 0.6000000000000001, 'booster': 'gbtree'}\n",
      "test score:  0.6951018339157893 \n",
      "\n",
      "\n"
     ]
    },
    {
     "data": {
      "image/png": "[encoded data removed]",
      "text/plain": [
       "<Figure size 1800x720 with 1 Axes>"
      ]
     },
     "metadata": {
      "needs_background": "dark"
     },
     "output_type": "display_data"
    },
    {
     "name": "stdout",
     "output_type": "stream",
     "text": [
      "CPU times: user 4.1 s, sys: 84.6 ms, total: 4.18 s\n",
      "Wall time: 2min 48s\n"
     ]
    }
   ],
   "source": [
    "%%time\n",
    "Xgbreg = xgb.XGBClassifier()\n",
    "#Xgbreg = xgb.XGBRFRegressor()\n",
    "\n",
    "paramsRS = {\"objective\":[\"binary:logistic\"], \n",
    "            \"n_estimators\": range(20,1000,40),\n",
    "             'learning_rate': [0.01,0.02,0.03,0.04,0.05,0.07,0.08,0.1,0.12,0.15,0.15,0.2,0.22,0.25,0.27,0.3,0.35,0.4],\n",
    "             \"max_depth\":range(2,8), \n",
    "             'min_child_weight':range(1,4,1), \n",
    "             \"booster\":[\"gbtree\"],\n",
    "             'gamma': np.arange(0.0,4,0.2),\n",
    "             'reg_alpha' : np.arange(0.0,2,0.1), \n",
    "             'reg_lambda' : np.arange(0.0,3,0.1),\n",
    "             'num_parallel_tree': [1]}\n",
    "            \n",
    "\n",
    "xgbr_search = RandomizedSearchCV(Xgbreg, param_distributions = paramsRS, cv= 4, n_iter= 25, n_jobs = 4)\n",
    "xgbr_search.fit(x_train,y_train)\n",
    "print(xgbr_search.best_params_)\n",
    "\n",
    "print('test score: ',xgbr_search.best_score_,'\\n\\n')\n",
    "\n",
    "plt.figure(figsize=(25,10))\n",
    "plt.bar(xgbr_search.cv_results_['rank_test_score'],xgbr_search.cv_results_['mean_test_score'], data=xgbr_search.cv_results_['mean_fit_time'])\n",
    "plt.grid(True)\n",
    "plt.show()"
   ]
  },
  {
   "cell_type": "code",
   "execution_count": null,
   "metadata": {},
   "outputs": [],
   "source": []
  }
 ],
 "metadata": {
  "kernelspec": {
   "display_name": "Python 3",
   "language": "python",
   "name": "python3"
  },
  "language_info": {
   "codemirror_mode": {
    "name": "ipython",
    "version": 3
   },
   "file_extension": ".py",
   "mimetype": "text/x-python",
   "name": "python",
   "nbconvert_exporter": "python",
   "pygments_lexer": "ipython3",
   "version": "3.7.6"
  }
 },
 "nbformat": 4,
 "nbformat_minor": 2
}
