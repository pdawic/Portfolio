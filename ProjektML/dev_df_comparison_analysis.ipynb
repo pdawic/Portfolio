{
 "cells": [
  {
   "cell_type": "markdown",
   "metadata": {},
   "source": [
    "## Development DF comparison with the rest of the Kickstarter data set\n",
    "\n",
    "We want to make sure that development sample of data retains characteristics of the base data set.\n",
    "\n",
    "Description of both data sets shows close similarity in terms of mean values, standard deviation. \n",
    "\n",
    "Very heavy outliers in terms of super-successful campaigns however render it impossible to prepare development sample that covers them fully (see the pledged plot at the end) "
   ]
  },
  {
   "cell_type": "code",
   "execution_count": 1,
   "metadata": {},
   "outputs": [],
   "source": [
    "import pandas as pd\n",
    "from sklearn import preprocessing\n",
    "from sklearn.model_selection import train_test_split\n",
    "import matplotlib.pyplot as plt\n",
    "import numpy as np"
   ]
  },
  {
   "cell_type": "code",
   "execution_count": 2,
   "metadata": {},
   "outputs": [],
   "source": [
    "rest_df = pd.read_csv('rest_df.csv')\n",
    "dev_df = pd.read_csv('dev_df.csv')"
   ]
  },
  {
   "cell_type": "code",
   "execution_count": 3,
   "metadata": {},
   "outputs": [
    {
     "data": {
      "text/html": [
       "<div>\n",
       "<style scoped>\n",
       "    .dataframe tbody tr th:only-of-type {\n",
       "        vertical-align: middle;\n",
       "    }\n",
       "\n",
       "    .dataframe tbody tr th {\n",
       "        vertical-align: top;\n",
       "    }\n",
       "\n",
       "    .dataframe thead th {\n",
       "        text-align: right;\n",
       "    }\n",
       "</style>\n",
       "<table border=\"1\" class=\"dataframe\">\n",
       "  <thead>\n",
       "    <tr style=\"text-align: right;\">\n",
       "      <th></th>\n",
       "      <th>main_cat_cat</th>\n",
       "      <th>country</th>\n",
       "      <th>duration</th>\n",
       "      <th>currency</th>\n",
       "      <th>goal_in_usd</th>\n",
       "      <th>percentage_of_money_collected</th>\n",
       "      <th>backers</th>\n",
       "      <th>state</th>\n",
       "      <th>pledged_in_usd</th>\n",
       "    </tr>\n",
       "  </thead>\n",
       "  <tbody>\n",
       "    <tr>\n",
       "      <th>0</th>\n",
       "      <td>50</td>\n",
       "      <td>21</td>\n",
       "      <td>30</td>\n",
       "      <td>13</td>\n",
       "      <td>25000.00</td>\n",
       "      <td>0.000000</td>\n",
       "      <td>0</td>\n",
       "      <td>0</td>\n",
       "      <td>0.00</td>\n",
       "    </tr>\n",
       "    <tr>\n",
       "      <th>1</th>\n",
       "      <td>138</td>\n",
       "      <td>21</td>\n",
       "      <td>30</td>\n",
       "      <td>13</td>\n",
       "      <td>13000.00</td>\n",
       "      <td>0.174615</td>\n",
       "      <td>40</td>\n",
       "      <td>0</td>\n",
       "      <td>2270.00</td>\n",
       "    </tr>\n",
       "    <tr>\n",
       "      <th>2</th>\n",
       "      <td>50</td>\n",
       "      <td>7</td>\n",
       "      <td>30</td>\n",
       "      <td>5</td>\n",
       "      <td>20804.67</td>\n",
       "      <td>0.002390</td>\n",
       "      <td>1</td>\n",
       "      <td>0</td>\n",
       "      <td>49.73</td>\n",
       "    </tr>\n",
       "    <tr>\n",
       "      <th>3</th>\n",
       "      <td>115</td>\n",
       "      <td>21</td>\n",
       "      <td>24</td>\n",
       "      <td>13</td>\n",
       "      <td>600.00</td>\n",
       "      <td>0.000000</td>\n",
       "      <td>0</td>\n",
       "      <td>0</td>\n",
       "      <td>0.00</td>\n",
       "    </tr>\n",
       "    <tr>\n",
       "      <th>4</th>\n",
       "      <td>64</td>\n",
       "      <td>21</td>\n",
       "      <td>30</td>\n",
       "      <td>13</td>\n",
       "      <td>10000.00</td>\n",
       "      <td>0.005100</td>\n",
       "      <td>2</td>\n",
       "      <td>0</td>\n",
       "      <td>51.00</td>\n",
       "    </tr>\n",
       "  </tbody>\n",
       "</table>\n",
       "</div>"
      ],
      "text/plain": [
       "   main_cat_cat  country  duration  currency  goal_in_usd  \\\n",
       "0            50       21        30        13     25000.00   \n",
       "1           138       21        30        13     13000.00   \n",
       "2            50        7        30         5     20804.67   \n",
       "3           115       21        24        13       600.00   \n",
       "4            64       21        30        13     10000.00   \n",
       "\n",
       "   percentage_of_money_collected  backers  state  pledged_in_usd  \n",
       "0                       0.000000        0      0            0.00  \n",
       "1                       0.174615       40      0         2270.00  \n",
       "2                       0.002390        1      0           49.73  \n",
       "3                       0.000000        0      0            0.00  \n",
       "4                       0.005100        2      0           51.00  "
      ]
     },
     "execution_count": 3,
     "metadata": {},
     "output_type": "execute_result"
    }
   ],
   "source": [
    "rest_df.head()"
   ]
  },
  {
   "cell_type": "code",
   "execution_count": 4,
   "metadata": {},
   "outputs": [
    {
     "data": {
      "text/html": [
       "<div>\n",
       "<style scoped>\n",
       "    .dataframe tbody tr th:only-of-type {\n",
       "        vertical-align: middle;\n",
       "    }\n",
       "\n",
       "    .dataframe tbody tr th {\n",
       "        vertical-align: top;\n",
       "    }\n",
       "\n",
       "    .dataframe thead th {\n",
       "        text-align: right;\n",
       "    }\n",
       "</style>\n",
       "<table border=\"1\" class=\"dataframe\">\n",
       "  <thead>\n",
       "    <tr style=\"text-align: right;\">\n",
       "      <th></th>\n",
       "      <th>main_cat_cat</th>\n",
       "      <th>country</th>\n",
       "      <th>duration</th>\n",
       "      <th>currency</th>\n",
       "      <th>goal_in_usd</th>\n",
       "      <th>percentage_of_money_collected</th>\n",
       "      <th>backers</th>\n",
       "      <th>state</th>\n",
       "      <th>pledged_in_usd</th>\n",
       "    </tr>\n",
       "  </thead>\n",
       "  <tbody>\n",
       "    <tr>\n",
       "      <th>0</th>\n",
       "      <td>80</td>\n",
       "      <td>21</td>\n",
       "      <td>30</td>\n",
       "      <td>13</td>\n",
       "      <td>500.00</td>\n",
       "      <td>1.150000</td>\n",
       "      <td>15</td>\n",
       "      <td>1</td>\n",
       "      <td>575.00</td>\n",
       "    </tr>\n",
       "    <tr>\n",
       "      <th>1</th>\n",
       "      <td>54</td>\n",
       "      <td>7</td>\n",
       "      <td>30</td>\n",
       "      <td>5</td>\n",
       "      <td>3315.48</td>\n",
       "      <td>0.009999</td>\n",
       "      <td>1</td>\n",
       "      <td>0</td>\n",
       "      <td>33.15</td>\n",
       "    </tr>\n",
       "    <tr>\n",
       "      <th>2</th>\n",
       "      <td>0</td>\n",
       "      <td>21</td>\n",
       "      <td>31</td>\n",
       "      <td>13</td>\n",
       "      <td>18000.00</td>\n",
       "      <td>1.160611</td>\n",
       "      <td>181</td>\n",
       "      <td>1</td>\n",
       "      <td>20891.00</td>\n",
       "    </tr>\n",
       "    <tr>\n",
       "      <th>3</th>\n",
       "      <td>154</td>\n",
       "      <td>21</td>\n",
       "      <td>45</td>\n",
       "      <td>13</td>\n",
       "      <td>60000.00</td>\n",
       "      <td>0.000000</td>\n",
       "      <td>0</td>\n",
       "      <td>0</td>\n",
       "      <td>0.00</td>\n",
       "    </tr>\n",
       "    <tr>\n",
       "      <th>4</th>\n",
       "      <td>159</td>\n",
       "      <td>21</td>\n",
       "      <td>45</td>\n",
       "      <td>13</td>\n",
       "      <td>75000.00</td>\n",
       "      <td>0.156453</td>\n",
       "      <td>100</td>\n",
       "      <td>0</td>\n",
       "      <td>11734.01</td>\n",
       "    </tr>\n",
       "  </tbody>\n",
       "</table>\n",
       "</div>"
      ],
      "text/plain": [
       "   main_cat_cat  country  duration  currency  goal_in_usd  \\\n",
       "0            80       21        30        13       500.00   \n",
       "1            54        7        30         5      3315.48   \n",
       "2             0       21        31        13     18000.00   \n",
       "3           154       21        45        13     60000.00   \n",
       "4           159       21        45        13     75000.00   \n",
       "\n",
       "   percentage_of_money_collected  backers  state  pledged_in_usd  \n",
       "0                       1.150000       15      1          575.00  \n",
       "1                       0.009999        1      0           33.15  \n",
       "2                       1.160611      181      1        20891.00  \n",
       "3                       0.000000        0      0            0.00  \n",
       "4                       0.156453      100      0        11734.01  "
      ]
     },
     "execution_count": 4,
     "metadata": {},
     "output_type": "execute_result"
    }
   ],
   "source": [
    "dev_df.head()"
   ]
  },
  {
   "cell_type": "markdown",
   "metadata": {},
   "source": [
    "## df.describe"
   ]
  },
  {
   "cell_type": "code",
   "execution_count": 5,
   "metadata": {},
   "outputs": [
    {
     "data": {
      "text/html": [
       "<div>\n",
       "<style scoped>\n",
       "    .dataframe tbody tr th:only-of-type {\n",
       "        vertical-align: middle;\n",
       "    }\n",
       "\n",
       "    .dataframe tbody tr th {\n",
       "        vertical-align: top;\n",
       "    }\n",
       "\n",
       "    .dataframe thead th {\n",
       "        text-align: right;\n",
       "    }\n",
       "</style>\n",
       "<table border=\"1\" class=\"dataframe\">\n",
       "  <thead>\n",
       "    <tr style=\"text-align: right;\">\n",
       "      <th></th>\n",
       "      <th>main_cat_cat</th>\n",
       "      <th>country</th>\n",
       "      <th>duration</th>\n",
       "      <th>currency</th>\n",
       "      <th>goal_in_usd</th>\n",
       "      <th>percentage_of_money_collected</th>\n",
       "      <th>backers</th>\n",
       "      <th>state</th>\n",
       "      <th>pledged_in_usd</th>\n",
       "    </tr>\n",
       "  </thead>\n",
       "  <tbody>\n",
       "    <tr>\n",
       "      <th>count</th>\n",
       "      <td>331414</td>\n",
       "      <td>331414</td>\n",
       "      <td>331414</td>\n",
       "      <td>331414</td>\n",
       "      <td>331414</td>\n",
       "      <td>331414</td>\n",
       "      <td>331414</td>\n",
       "      <td>331414</td>\n",
       "      <td>331414</td>\n",
       "    </tr>\n",
       "    <tr>\n",
       "      <th>mean</th>\n",
       "      <td>85.3333</td>\n",
       "      <td>17.9269</td>\n",
       "      <td>34.1812</td>\n",
       "      <td>11.0261</td>\n",
       "      <td>45035.5</td>\n",
       "      <td>3.38915</td>\n",
       "      <td>107.497</td>\n",
       "      <td>0.361098</td>\n",
       "      <td>9153.98</td>\n",
       "    </tr>\n",
       "    <tr>\n",
       "      <th>std</th>\n",
       "      <td>45.7419</td>\n",
       "      <td>6.22598</td>\n",
       "      <td>12.7918</td>\n",
       "      <td>3.92691</td>\n",
       "      <td>1.12815e+06</td>\n",
       "      <td>283.165</td>\n",
       "      <td>941.016</td>\n",
       "      <td>0.48032</td>\n",
       "      <td>93340.6</td>\n",
       "    </tr>\n",
       "    <tr>\n",
       "      <th>min</th>\n",
       "      <td>0</td>\n",
       "      <td>0</td>\n",
       "      <td>1</td>\n",
       "      <td>0</td>\n",
       "      <td>0.01</td>\n",
       "      <td>0</td>\n",
       "      <td>0</td>\n",
       "      <td>0</td>\n",
       "      <td>0</td>\n",
       "    </tr>\n",
       "    <tr>\n",
       "      <th>25%</th>\n",
       "      <td>50</td>\n",
       "      <td>21</td>\n",
       "      <td>30</td>\n",
       "      <td>13</td>\n",
       "      <td>2000</td>\n",
       "      <td>0.00476477</td>\n",
       "      <td>2</td>\n",
       "      <td>0</td>\n",
       "      <td>32</td>\n",
       "    </tr>\n",
       "    <tr>\n",
       "      <th>50%</th>\n",
       "      <td>84</td>\n",
       "      <td>21</td>\n",
       "      <td>30</td>\n",
       "      <td>13</td>\n",
       "      <td>5500</td>\n",
       "      <td>0.136</td>\n",
       "      <td>12</td>\n",
       "      <td>0</td>\n",
       "      <td>631</td>\n",
       "    </tr>\n",
       "    <tr>\n",
       "      <th>75%</th>\n",
       "      <td>120</td>\n",
       "      <td>21</td>\n",
       "      <td>37</td>\n",
       "      <td>13</td>\n",
       "      <td>16000</td>\n",
       "      <td>1.06667</td>\n",
       "      <td>57</td>\n",
       "      <td>1</td>\n",
       "      <td>4075</td>\n",
       "    </tr>\n",
       "    <tr>\n",
       "      <th>max</th>\n",
       "      <td>169</td>\n",
       "      <td>21</td>\n",
       "      <td>92</td>\n",
       "      <td>13</td>\n",
       "      <td>1.66361e+08</td>\n",
       "      <td>104278</td>\n",
       "      <td>219382</td>\n",
       "      <td>1</td>\n",
       "      <td>2.0339e+07</td>\n",
       "    </tr>\n",
       "  </tbody>\n",
       "</table>\n",
       "</div>"
      ],
      "text/plain": [
       "      main_cat_cat  country duration currency  goal_in_usd  \\\n",
       "count       331414   331414   331414   331414       331414   \n",
       "mean       85.3333  17.9269  34.1812  11.0261      45035.5   \n",
       "std        45.7419  6.22598  12.7918  3.92691  1.12815e+06   \n",
       "min              0        0        1        0         0.01   \n",
       "25%             50       21       30       13         2000   \n",
       "50%             84       21       30       13         5500   \n",
       "75%            120       21       37       13        16000   \n",
       "max            169       21       92       13  1.66361e+08   \n",
       "\n",
       "      percentage_of_money_collected  backers     state pledged_in_usd  \n",
       "count                        331414   331414    331414         331414  \n",
       "mean                        3.38915  107.497  0.361098        9153.98  \n",
       "std                         283.165  941.016   0.48032        93340.6  \n",
       "min                               0        0         0              0  \n",
       "25%                      0.00476477        2         0             32  \n",
       "50%                           0.136       12         0            631  \n",
       "75%                         1.06667       57         1           4075  \n",
       "max                          104278   219382         1     2.0339e+07  "
      ]
     },
     "execution_count": 5,
     "metadata": {},
     "output_type": "execute_result"
    }
   ],
   "source": [
    "rest_df.describe().apply(lambda s: s.apply(lambda x: format(x, 'g')))"
   ]
  },
  {
   "cell_type": "code",
   "execution_count": 6,
   "metadata": {},
   "outputs": [
    {
     "data": {
      "text/html": [
       "<div>\n",
       "<style scoped>\n",
       "    .dataframe tbody tr th:only-of-type {\n",
       "        vertical-align: middle;\n",
       "    }\n",
       "\n",
       "    .dataframe tbody tr th {\n",
       "        vertical-align: top;\n",
       "    }\n",
       "\n",
       "    .dataframe thead th {\n",
       "        text-align: right;\n",
       "    }\n",
       "</style>\n",
       "<table border=\"1\" class=\"dataframe\">\n",
       "  <thead>\n",
       "    <tr style=\"text-align: right;\">\n",
       "      <th></th>\n",
       "      <th>main_cat_cat</th>\n",
       "      <th>country</th>\n",
       "      <th>duration</th>\n",
       "      <th>currency</th>\n",
       "      <th>goal_in_usd</th>\n",
       "      <th>percentage_of_money_collected</th>\n",
       "      <th>backers</th>\n",
       "      <th>state</th>\n",
       "      <th>pledged_in_usd</th>\n",
       "    </tr>\n",
       "  </thead>\n",
       "  <tbody>\n",
       "    <tr>\n",
       "      <th>count</th>\n",
       "      <td>36824</td>\n",
       "      <td>36824</td>\n",
       "      <td>36824</td>\n",
       "      <td>36824</td>\n",
       "      <td>36824</td>\n",
       "      <td>36824</td>\n",
       "      <td>36824</td>\n",
       "      <td>36824</td>\n",
       "      <td>36824</td>\n",
       "    </tr>\n",
       "    <tr>\n",
       "      <th>mean</th>\n",
       "      <td>85.1896</td>\n",
       "      <td>17.959</td>\n",
       "      <td>34.0792</td>\n",
       "      <td>11.0524</td>\n",
       "      <td>46872.9</td>\n",
       "      <td>2.37795</td>\n",
       "      <td>103.952</td>\n",
       "      <td>0.362481</td>\n",
       "      <td>9203.46</td>\n",
       "    </tr>\n",
       "    <tr>\n",
       "      <th>std</th>\n",
       "      <td>45.6717</td>\n",
       "      <td>6.2073</td>\n",
       "      <td>12.7356</td>\n",
       "      <td>3.90838</td>\n",
       "      <td>1.16228e+06</td>\n",
       "      <td>101.813</td>\n",
       "      <td>666.031</td>\n",
       "      <td>0.480723</td>\n",
       "      <td>76577.2</td>\n",
       "    </tr>\n",
       "    <tr>\n",
       "      <th>min</th>\n",
       "      <td>0</td>\n",
       "      <td>0</td>\n",
       "      <td>1</td>\n",
       "      <td>0</td>\n",
       "      <td>0.72</td>\n",
       "      <td>0</td>\n",
       "      <td>0</td>\n",
       "      <td>0</td>\n",
       "      <td>0</td>\n",
       "    </tr>\n",
       "    <tr>\n",
       "      <th>25%</th>\n",
       "      <td>50</td>\n",
       "      <td>21</td>\n",
       "      <td>30</td>\n",
       "      <td>13</td>\n",
       "      <td>2000</td>\n",
       "      <td>0.0048083</td>\n",
       "      <td>2</td>\n",
       "      <td>0</td>\n",
       "      <td>35</td>\n",
       "    </tr>\n",
       "    <tr>\n",
       "      <th>50%</th>\n",
       "      <td>84</td>\n",
       "      <td>21</td>\n",
       "      <td>30</td>\n",
       "      <td>13</td>\n",
       "      <td>5500</td>\n",
       "      <td>0.138301</td>\n",
       "      <td>12</td>\n",
       "      <td>0</td>\n",
       "      <td>633.015</td>\n",
       "    </tr>\n",
       "    <tr>\n",
       "      <th>75%</th>\n",
       "      <td>120</td>\n",
       "      <td>21</td>\n",
       "      <td>36</td>\n",
       "      <td>13</td>\n",
       "      <td>15951.7</td>\n",
       "      <td>1.06495</td>\n",
       "      <td>57</td>\n",
       "      <td>1</td>\n",
       "      <td>4113.17</td>\n",
       "    </tr>\n",
       "    <tr>\n",
       "      <th>max</th>\n",
       "      <td>169</td>\n",
       "      <td>21</td>\n",
       "      <td>92</td>\n",
       "      <td>13</td>\n",
       "      <td>1.04057e+08</td>\n",
       "      <td>12984</td>\n",
       "      <td>67226</td>\n",
       "      <td>1</td>\n",
       "      <td>9.19206e+06</td>\n",
       "    </tr>\n",
       "  </tbody>\n",
       "</table>\n",
       "</div>"
      ],
      "text/plain": [
       "      main_cat_cat country duration currency  goal_in_usd  \\\n",
       "count        36824   36824    36824    36824        36824   \n",
       "mean       85.1896  17.959  34.0792  11.0524      46872.9   \n",
       "std        45.6717  6.2073  12.7356  3.90838  1.16228e+06   \n",
       "min              0       0        1        0         0.72   \n",
       "25%             50      21       30       13         2000   \n",
       "50%             84      21       30       13         5500   \n",
       "75%            120      21       36       13      15951.7   \n",
       "max            169      21       92       13  1.04057e+08   \n",
       "\n",
       "      percentage_of_money_collected  backers     state pledged_in_usd  \n",
       "count                         36824    36824     36824          36824  \n",
       "mean                        2.37795  103.952  0.362481        9203.46  \n",
       "std                         101.813  666.031  0.480723        76577.2  \n",
       "min                               0        0         0              0  \n",
       "25%                       0.0048083        2         0             35  \n",
       "50%                        0.138301       12         0        633.015  \n",
       "75%                         1.06495       57         1        4113.17  \n",
       "max                           12984    67226         1    9.19206e+06  "
      ]
     },
     "execution_count": 6,
     "metadata": {},
     "output_type": "execute_result"
    }
   ],
   "source": [
    "dev_df.describe().apply(lambda s: s.apply(lambda x: format(x, 'g')))"
   ]
  },
  {
   "cell_type": "code",
   "execution_count": 7,
   "metadata": {},
   "outputs": [],
   "source": [
    "%matplotlib inline"
   ]
  },
  {
   "cell_type": "code",
   "execution_count": 8,
   "metadata": {},
   "outputs": [
    {
     "data": {
      "image/png": "[encoded data removed]",
      "text/plain": [
       "<Figure size 432x288 with 1 Axes>"
      ]
     },
     "metadata": {
      "needs_background": "light"
     },
     "output_type": "display_data"
    }
   ],
   "source": [
    "plt.clf()\n",
    "plt.hist(rest_df['main_cat_cat'], alpha=0.4, label='rest_df', log=True)\n",
    "plt.hist(dev_df['main_cat_cat'], alpha=1, label='dev_df', log=True)\n",
    "plt.legend(loc='upper right')\n",
    "plt.ylabel('Frequency',fontsize=20)\n",
    "plt.xlabel('Categories',fontsize=20)\n",
    "plt.show()"
   ]
  },
  {
   "cell_type": "code",
   "execution_count": 9,
   "metadata": {},
   "outputs": [
    {
     "data": {
      "image/png": "[encoded data removed]",
      "text/plain": [
       "<Figure size 432x288 with 1 Axes>"
      ]
     },
     "metadata": {
      "needs_background": "light"
     },
     "output_type": "display_data"
    }
   ],
   "source": [
    "plt.clf()\n",
    "plt.hist(rest_df['country'], alpha=0.4, label='rest_df', log=True)\n",
    "plt.hist(dev_df['country'], alpha=1, label='dev_df', log=True)\n",
    "plt.legend(loc='upper right')\n",
    "plt.ylabel('Frequency',fontsize=20)\n",
    "plt.xlabel('Country',fontsize=20)\n",
    "plt.show()"
   ]
  },
  {
   "cell_type": "code",
   "execution_count": 10,
   "metadata": {},
   "outputs": [
    {
     "data": {
      "image/png": "[encoded data removed]",
      "text/plain": [
       "<Figure size 432x288 with 1 Axes>"
      ]
     },
     "metadata": {
      "needs_background": "light"
     },
     "output_type": "display_data"
    }
   ],
   "source": [
    "plt.clf()\n",
    "plt.hist(rest_df['duration'], alpha=0.4, label='rest_df', log=True)\n",
    "plt.hist(dev_df['duration'], alpha=1, label='dev_df', log=True)\n",
    "plt.legend(loc='upper right')\n",
    "plt.ylabel('Frequency',fontsize=20)\n",
    "plt.xlabel('Duration',fontsize=20)\n",
    "plt.show()"
   ]
  },
  {
   "cell_type": "code",
   "execution_count": 11,
   "metadata": {},
   "outputs": [
    {
     "data": {
      "text/plain": [
       "<Figure size 432x288 with 0 Axes>"
      ]
     },
     "metadata": {},
     "output_type": "display_data"
    },
    {
     "data": {
      "image/png": "[encoded data removed]",
      "text/plain": [
       "<Figure size 1584x432 with 1 Axes>"
      ]
     },
     "metadata": {
      "needs_background": "light"
     },
     "output_type": "display_data"
    }
   ],
   "source": [
    "plt.clf()\n",
    "plt.figure(figsize=(22, 6))\n",
    "my_hist=rest_df['goal_in_usd'][(rest_df['goal_in_usd'])<1000000].hist(bins=200, alpha=0.4)\n",
    "my_hist.set_yscale('log')\n",
    "my_hist2=dev_df['goal_in_usd'][(dev_df['goal_in_usd'])<1000000].hist(bins=200)\n",
    "my_hist2.set_yscale('log')\n",
    "plt.ylabel('Frequency',fontsize=20)\n",
    "plt.xlabel('Goal',fontsize=20)\n",
    "plt.yticks(fontsize=10)\n",
    "plt.xticks([0,100000,200000,300000,400000,500000,600000,700000,800000,900000,1000000],\n",
    "           fontsize=10,rotation=45 )\n",
    "plt.show()"
   ]
  },
  {
   "cell_type": "code",
   "execution_count": 12,
   "metadata": {},
   "outputs": [
    {
     "data": {
      "text/plain": [
       "<Figure size 432x288 with 0 Axes>"
      ]
     },
     "metadata": {},
     "output_type": "display_data"
    },
    {
     "data": {
      "image/png": "[encoded data removed]",
      "text/plain": [
       "<Figure size 1584x432 with 1 Axes>"
      ]
     },
     "metadata": {
      "needs_background": "light"
     },
     "output_type": "display_data"
    }
   ],
   "source": [
    "plt.clf()\n",
    "plt.figure(figsize=(22, 6))\n",
    "my_hist=rest_df['goal_in_usd'][(rest_df['goal_in_usd'])<10000000].hist(bins=200, alpha=0.4)\n",
    "my_hist.set_yscale('log')\n",
    "my_hist2=dev_df['goal_in_usd'][(dev_df['goal_in_usd'])<10000000].hist(bins=200)\n",
    "my_hist2.set_yscale('log')\n",
    "plt.ylabel('Frequency',fontsize=20)\n",
    "plt.xlabel('Goal',fontsize=20)\n",
    "plt.yticks(fontsize=10)\n",
    "plt.xticks(fontsize=10,rotation=45 )\n",
    "plt.show()"
   ]
  },
  {
   "cell_type": "code",
   "execution_count": 13,
   "metadata": {
    "scrolled": true
   },
   "outputs": [
    {
     "data": {
      "text/plain": [
       "<Figure size 432x288 with 0 Axes>"
      ]
     },
     "metadata": {},
     "output_type": "display_data"
    },
    {
     "data": {
      "image/png": "[encoded data removed]",
      "text/plain": [
       "<Figure size 1584x432 with 1 Axes>"
      ]
     },
     "metadata": {
      "needs_background": "light"
     },
     "output_type": "display_data"
    }
   ],
   "source": [
    "plt.clf()\n",
    "plt.figure(figsize=(22, 6))\n",
    "my_hist=rest_df['pledged_in_usd'][(rest_df['pledged_in_usd'])<1000000].hist(bins=200, alpha=0.4)\n",
    "my_hist.set_yscale('log')\n",
    "my_hist2=dev_df['pledged_in_usd'][(dev_df['pledged_in_usd'])<1000000].hist(bins=200)\n",
    "my_hist2.set_yscale('log')\n",
    "plt.ylabel('Frequency',fontsize=20)\n",
    "plt.xlabel('Pledged',fontsize=20)\n",
    "plt.yticks(fontsize=10)\n",
    "plt.xticks([0,100000,200000,300000,400000,500000,600000,700000,800000,900000,1000000],\n",
    "           fontsize=10,rotation=45 )\n",
    "plt.show()"
   ]
  },
  {
   "cell_type": "code",
   "execution_count": 14,
   "metadata": {},
   "outputs": [
    {
     "data": {
      "text/plain": [
       "<Figure size 432x288 with 0 Axes>"
      ]
     },
     "metadata": {},
     "output_type": "display_data"
    },
    {
     "data": {
      "image/png": "[encoded data removed]",
      "text/plain": [
       "<Figure size 1584x432 with 1 Axes>"
      ]
     },
     "metadata": {
      "needs_background": "light"
     },
     "output_type": "display_data"
    }
   ],
   "source": [
    "plt.clf()\n",
    "plt.figure(figsize=(22, 6))\n",
    "my_hist=rest_df['pledged_in_usd'][(rest_df['goal_in_usd'])<10000000].hist(bins=200, alpha=0.4)\n",
    "my_hist.set_yscale('log')\n",
    "my_hist2=dev_df['pledged_in_usd'][(dev_df['goal_in_usd'])<10000000].hist(bins=200)\n",
    "my_hist2.set_yscale('log')\n",
    "plt.ylabel('Frequency',fontsize=20)\n",
    "plt.xlabel('Pledged',fontsize=20)\n",
    "plt.yticks(fontsize=10)\n",
    "plt.xticks(fontsize=10,rotation=45 )\n",
    "plt.show()"
   ]
  },
  {
   "cell_type": "code",
   "execution_count": null,
   "metadata": {},
   "outputs": [],
   "source": []
  }
 ],
 "metadata": {
  "kernelspec": {
   "display_name": "Python 3",
   "language": "python",
   "name": "python3"
  },
  "language_info": {
   "codemirror_mode": {
    "name": "ipython",
    "version": 3
   },
   "file_extension": ".py",
   "mimetype": "text/x-python",
   "name": "python",
   "nbconvert_exporter": "python",
   "pygments_lexer": "ipython3",
   "version": "3.7.6"
  }
 },
 "nbformat": 4,
 "nbformat_minor": 2
}
